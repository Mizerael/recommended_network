{
 "cells": [
  {
   "cell_type": "code",
   "execution_count": null,
   "metadata": {},
   "outputs": [],
   "source": [
    "import numpy as np\n",
    "import pandas as pd\n",
    "import seaborn as sns\n",
    "import matplotlib.pyplot as plt\n",
    "import random\n",
    "import os\n",
    "import pickle\n",
    "import json\n",
    "\n",
    "from scipy.sparse import csr_matrix, save_npz\n",
    "from sklearn.neighbors import NearestNeighbors\n",
    "from sklearn.feature_extraction.text import TfidfVectorizer\n",
    "from sklearn.metrics.pairwise import cosine_similarity\n",
    "\n",
    "from app.source import *\n",
    "from utils import draw_barplor\n",
    "from app.recomendations import make_recomendations_with_cf, make_recomendations_with_genre, make_recomendations_with_sypnopsis, make_recomendations_with_genres_and_sypnopsis"
   ]
  },
  {
   "attachments": {},
   "cell_type": "markdown",
   "metadata": {},
   "source": [
    "## Предобработка данных"
   ]
  },
  {
   "attachments": {},
   "cell_type": "markdown",
   "metadata": {},
   "source": [
    "### работа с признаками"
   ]
  },
  {
   "cell_type": "code",
   "execution_count": null,
   "metadata": {},
   "outputs": [],
   "source": [
    "anime_ratings = pd.read_csv(ANIME_DIR + \"animelist.csv\", nrows=10000000)\n",
    "anime_data = pd.read_csv(ANIME_DIR + \"anime.csv\")"
   ]
  },
  {
   "attachments": {},
   "cell_type": "markdown",
   "metadata": {},
   "source": [
    "Рассиморим, какая информация находится в файле $anime.csv$"
   ]
  },
  {
   "cell_type": "code",
   "execution_count": null,
   "metadata": {},
   "outputs": [],
   "source": [
    "anime_data.info()"
   ]
  },
  {
   "attachments": {},
   "cell_type": "markdown",
   "metadata": {},
   "source": [
    "Сразу переименуем колонку $MAL\\_ID$ в $anime\\_id$"
   ]
  },
  {
   "cell_type": "code",
   "execution_count": null,
   "metadata": {},
   "outputs": [],
   "source": [
    "anime_data.rename(columns={'MAL_ID':\"anime_id\"},inplace=True)\n",
    "anime_data.columns"
   ]
  },
  {
   "attachments": {},
   "cell_type": "markdown",
   "metadata": {},
   "source": [
    "Избавимся от лишних полей"
   ]
  },
  {
   "cell_type": "code",
   "execution_count": null,
   "metadata": {},
   "outputs": [],
   "source": [
    "to_keep = ['anime_id', 'Name', 'Score', 'Genres', 'Members']\n",
    "anime_data = anime_data[to_keep]\n",
    "anime_data"
   ]
  },
  {
   "attachments": {},
   "cell_type": "markdown",
   "metadata": {},
   "source": [
    "Сейчас у нас все жанры описаны в одном поле через запятую, что не очень удобно, поэтому мы определим все жанры и добавим их как поля для каждой записи"
   ]
  },
  {
   "cell_type": "code",
   "execution_count": null,
   "metadata": {},
   "outputs": [],
   "source": [
    "genres_column = anime_data[\"Genres\"].map(lambda x: x.split(\", \"))\n",
    "genres = list(set(sum(genres_column, [])))\n",
    "\n",
    "anime_data[genres] = 0\n",
    "for i in range(0, len(genres_column)):\n",
    "    anime_data.loc[i, genres_column[i]] = 1\n",
    "\n",
    "anime_data = anime_data.drop(columns=\"Genres\")"
   ]
  },
  {
   "attachments": {},
   "cell_type": "markdown",
   "metadata": {},
   "source": [
    "Заменим Unknown в поле Score на 0"
   ]
  },
  {
   "cell_type": "code",
   "execution_count": null,
   "metadata": {},
   "outputs": [],
   "source": [
    "dict = {'Unknown' : 0}\n",
    "anime_data['Score'] = anime_data['Score'].astype(str).apply(lambda x : dict[x] if x == 'Unknown' else x).astype(float)\n",
    "\n",
    "anime_data.info()"
   ]
  },
  {
   "attachments": {},
   "cell_type": "markdown",
   "metadata": {},
   "source": [
    "Рассмотрим теперь информацию файла $animelist.csv$"
   ]
  },
  {
   "cell_type": "code",
   "execution_count": null,
   "metadata": {},
   "outputs": [],
   "source": [
    "anime_ratings.info()"
   ]
  },
  {
   "attachments": {},
   "cell_type": "markdown",
   "metadata": {},
   "source": [
    "Избавимся от информации о кол-ве просмотренных эпизодов и статусе просмотра"
   ]
  },
  {
   "cell_type": "code",
   "execution_count": null,
   "metadata": {},
   "outputs": [],
   "source": [
    "anime_ratings = anime_ratings[['user_id', 'anime_id', 'rating']]\n",
    "anime_ratings.info()"
   ]
  },
  {
   "attachments": {},
   "cell_type": "markdown",
   "metadata": {},
   "source": [
    "Проверим, есть ли оценки для всех аниме, представленных в датасете"
   ]
  },
  {
   "cell_type": "code",
   "execution_count": null,
   "metadata": {},
   "outputs": [],
   "source": [
    "anime_ratings.anime_id.nunique()"
   ]
  },
  {
   "attachments": {},
   "cell_type": "markdown",
   "metadata": {},
   "source": [
    "Это действительно так"
   ]
  },
  {
   "attachments": {},
   "cell_type": "markdown",
   "metadata": {},
   "source": [
    "Объеденим информацию из двух файлов"
   ]
  },
  {
   "cell_type": "code",
   "execution_count": null,
   "metadata": {},
   "outputs": [],
   "source": [
    "anime_complete = pd.merge(anime_data, anime_ratings, on='anime_id')\n",
    "anime_complete.info()"
   ]
  },
  {
   "attachments": {},
   "cell_type": "markdown",
   "metadata": {},
   "source": [
    "Переименуеем Score в total_score, а rating в user_score"
   ]
  },
  {
   "cell_type": "code",
   "execution_count": null,
   "metadata": {},
   "outputs": [],
   "source": [
    "anime_complete = anime_complete.rename(columns={'Score' : 'total_score', 'rating': 'user_score'})\n",
    "\n",
    "anime_complete.isna().sum()"
   ]
  },
  {
   "attachments": {},
   "cell_type": "markdown",
   "metadata": {},
   "source": [
    "сохраним полученый df в csv"
   ]
  },
  {
   "cell_type": "code",
   "execution_count": null,
   "metadata": {},
   "outputs": [],
   "source": [
    "anime_complete.to_csv(ANIME_DIR + 'complete.csv')"
   ]
  },
  {
   "attachments": {},
   "cell_type": "markdown",
   "metadata": {},
   "source": [
    "### Подготовка данных для рекомендаций"
   ]
  },
  {
   "cell_type": "code",
   "execution_count": null,
   "metadata": {},
   "outputs": [],
   "source": [
    "anime_feature = pd.read_csv(ANIME_DIR + 'complete.csv')\n",
    "anime_feature = anime_feature.drop(columns='Unnamed: 0')\n",
    "anime_feature.head()"
   ]
  },
  {
   "attachments": {},
   "cell_type": "markdown",
   "metadata": {},
   "source": [
    "Ради интереса посмотрим на 10 самых популярных аниме по кол-ву оценок и по кол-ву фанатов"
   ]
  },
  {
   "cell_type": "code",
   "execution_count": null,
   "metadata": {},
   "outputs": [],
   "source": [
    "top10_by_score = anime_feature['Name'].value_counts().nlargest(10)\n",
    "top10_by_members = anime_feature.sort_values(by='Members', ascending=False).drop_duplicates(subset='Name').head(10)"
   ]
  },
  {
   "cell_type": "code",
   "execution_count": null,
   "metadata": {},
   "outputs": [],
   "source": [
    "draw_barplor(top10_by_score.index, top10_by_score.values, \n",
    "             \"топ 10 по суммарному рейтингу\", \"название аниме\", \"суммарный рейтинг\")"
   ]
  },
  {
   "attachments": {},
   "cell_type": "markdown",
   "metadata": {},
   "source": [
    "И тут в поезде анимешников завязалась драка..."
   ]
  },
  {
   "cell_type": "code",
   "execution_count": null,
   "metadata": {},
   "outputs": [],
   "source": [
    "draw_barplor(top10_by_members['Name'], top10_by_members['Members'],\n",
    "             \"топ 10 по числу фанатов\", \"название аниме\", \"фанаты\")"
   ]
  },
  {
   "attachments": {},
   "cell_type": "markdown",
   "metadata": {},
   "source": [
    "...в которую ворвались адепты Всемогущего, Сайтамы и 1000 - 7 ..."
   ]
  },
  {
   "attachments": {},
   "cell_type": "markdown",
   "metadata": {},
   "source": [
    "Проверим сколько в среднем поставил оценок каждый пользователь"
   ]
  },
  {
   "cell_type": "code",
   "execution_count": null,
   "metadata": {},
   "outputs": [],
   "source": [
    "count_of_users = anime_feature['user_id'].value_counts()\n",
    "count_of_users.describe()"
   ]
  },
  {
   "attachments": {},
   "cell_type": "markdown",
   "metadata": {},
   "source": [
    "Половина пользователей, оцекни которых мы собираемся использовать поставили\n",
    "оценки меньше чем $67$ анииме, однако средним значением для выборки является около\n",
    "$101$-ой оценки. Если рассматривать, что большая часть оценок поставлена по\n",
    "просмотру аниме и при этом не для каждого просмотренного аниме пользователь\n",
    "поставил оценку, то для дальнейшей работы\n",
    "стоит выбрать пользователей, которые поставили оцеку $75$ и более аниме. \n",
    "\n",
    "Данное значение было взято из следующего:\n",
    "- Мной просмотрено около 300 аниме, но при этом оценка выставлена лишь половине.\n",
    "- Большая часть выходящих аниме преставляют собой 12-ти серийные сериалы,\n",
    "  средняя продолжительность которых составляет $12 * 24 / 60 = 4.8$ часа.\n",
    "- Следовательно человек, просмотревший $75$ аниме, потратил на это $360$ часов...\n",
    "\n",
    "$360$ часов можно интерпретировать примерно как год работы кинокритика, т.к\n",
    "кроме самого просмотра, человек ещё тратит какое-то время на осмысление сюжета,\n",
    "понимание мотивов героев. Если он конечно смотрит их не залпом по несколько\n",
    "аниме в день из-за кошкодевочек и им подобным)"
   ]
  },
  {
   "cell_type": "code",
   "execution_count": null,
   "metadata": {},
   "outputs": [],
   "source": [
    "print(f'{type(count_of_users)}\\n{count_of_users}')"
   ]
  },
  {
   "cell_type": "code",
   "execution_count": null,
   "metadata": {},
   "outputs": [],
   "source": [
    "anime_feature = anime_feature[anime_feature['user_id'].isin(count_of_users[count_of_users >= 75].index)]\n",
    "anime_feature.user_id.nunique()"
   ]
  },
  {
   "attachments": {},
   "cell_type": "markdown",
   "metadata": {},
   "source": [
    "создадим теперь таблицу, в которой строками будут названия аниме, а столбцами id пользователей. Значениями будут оценки"
   ]
  },
  {
   "cell_type": "code",
   "execution_count": null,
   "metadata": {},
   "outputs": [],
   "source": [
    "anime_pivot = anime_feature.pivot_table(index='Name', columns='user_id',\n",
    "                                        values='user_score').fillna(0)\n",
    "anime_pivot.head()"
   ]
  },
  {
   "attachments": {},
   "cell_type": "markdown",
   "metadata": {},
   "source": [
    "также сохраним его для дальнейшей работы, предварительно преобразовав в csr_matrix для удобства разворачивания в дальнейшем"
   ]
  },
  {
   "cell_type": "code",
   "execution_count": null,
   "metadata": {},
   "outputs": [],
   "source": [
    "cf_matrix = csr_matrix(anime_pivot.values)\n",
    "save_npz(ANIME_DIR + 'cf_matrix.npz', cf_matrix)"
   ]
  },
  {
   "attachments": {},
   "cell_type": "markdown",
   "metadata": {},
   "source": [
    "## Коллаборативная рекомендация"
   ]
  },
  {
   "cell_type": "code",
   "execution_count": null,
   "metadata": {},
   "outputs": [],
   "source": [
    "# cf_matrix = load_npz(ANIME_DIR + 'cf_matrix.npz')\n",
    "anime_pivot = pd.read_csv(ANIME_DIR + 'anime_cf.csv', index_col='Name')\n",
    "anime_pivot.head()"
   ]
  },
  {
   "cell_type": "code",
   "execution_count": null,
   "metadata": {},
   "outputs": [],
   "source": [
    "anime_pivot.info()"
   ]
  },
  {
   "attachments": {},
   "cell_type": "markdown",
   "metadata": {},
   "source": [
    "Слишком много места требуется для данных. Выберем 4000 случайных пользователей и их оценки."
   ]
  },
  {
   "cell_type": "code",
   "execution_count": null,
   "metadata": {},
   "outputs": [],
   "source": [
    "copy_pivot = anime_pivot[random.sample(anime_pivot.columns.to_list(), 4000)]\n",
    "copy_pivot.info()"
   ]
  },
  {
   "cell_type": "code",
   "execution_count": null,
   "metadata": {},
   "outputs": [],
   "source": [
    "cf_matrix = csr_matrix(copy_pivot.values)"
   ]
  },
  {
   "cell_type": "code",
   "execution_count": null,
   "metadata": {},
   "outputs": [],
   "source": [
    "knn_model = NearestNeighbors(metric='cosine', algorithm='brute')\n",
    "knn_model.fit(cf_matrix)"
   ]
  },
  {
   "cell_type": "code",
   "execution_count": null,
   "metadata": {},
   "outputs": [],
   "source": [
    "anime_titles = copy_pivot.index\n",
    "anime_title = np.random.choice(anime_titles)\n",
    "query_index = copy_pivot.index.get_loc(anime_title)\n",
    "print(f\"Randomly selected anime title: {anime_title} \\n\")"
   ]
  },
  {
   "cell_type": "code",
   "execution_count": null,
   "metadata": {},
   "outputs": [],
   "source": [
    "distances, index = knn_model.kneighbors(copy_pivot.iloc[query_index, :]\n",
    "                                        .values.reshape(1, -1)\n",
    "                                        , n_neighbors=10)\n",
    "\n",
    "print(f\"Recommendations for {anime_pivot.index[query_index]}:\\n\")\n",
    "for i, ind in enumerate(index.flatten()):\n",
    "    print(f'''{i + 1}: {copy_pivot.index[ind]}, with distance {distances.flatten()[i]:{4}.{3}}''')"
   ]
  },
  {
   "cell_type": "code",
   "execution_count": null,
   "metadata": {},
   "outputs": [],
   "source": [
    "result = make_recomendations_with_cf(copy_pivot, count_recomendations=20, model_path= 'models/cf_model.sav')\n",
    "\n",
    "if result != None:\n",
    "    print(f' {20} title recomendations for {result[0]}')\n",
    "    for i, value in enumerate(result[1]):\n",
    "        print(f'{i + 1}: {value[0]}, with distance {value[1]:{4}.{3}}')"
   ]
  },
  {
   "cell_type": "code",
   "execution_count": null,
   "metadata": {},
   "outputs": [],
   "source": [
    "result = make_recomendations_with_cf(copy_pivot, count_recomendations=20, model_path= 'cf_model.sav', name='aboba')\n",
    "\n",
    "if result != None:\n",
    "    print(f' {20} title recomendations for {result[0]}')\n",
    "    for i, value in enumerate(result[1]):\n",
    "        print(f'{i + 1}: {value[0]}, with distance {value[1]:{4}.{3}}')\n",
    "else:\n",
    "    print('Anime not found')"
   ]
  },
  {
   "attachments": {},
   "cell_type": "markdown",
   "metadata": {},
   "source": [
    "## Рекомендации на основе жанра, описания"
   ]
  },
  {
   "attachments": {},
   "cell_type": "markdown",
   "metadata": {},
   "source": [
    "У метода коллаборативной фильтрации есть несколько минусов:\n",
    "1. Объем данных\n",
    "2. Существуют такие аниме, для которых есть слишком мало оценок, поэтому\n",
    "   рекомендации выстраиваются на основе предпочтений тех людей, которые\n",
    "   просмотрели это аниме и это не дает нам реальной пользы, т.к рекомендации\n",
    "   начинают работать на основе вкуса 1-2 людей"
   ]
  },
  {
   "cell_type": "code",
   "execution_count": null,
   "metadata": {},
   "outputs": [],
   "source": [
    "synopsis_data = pd.read_csv(ANIME_DIR + 'anime_with_synopsis.csv')\n",
    "synopsis_data.rename(columns={'MAL_ID':\"anime_id\"},inplace=True)\n",
    "synopsis_data.head()"
   ]
  },
  {
   "cell_type": "code",
   "execution_count": null,
   "metadata": {},
   "outputs": [],
   "source": [
    "print(synopsis_data.info())"
   ]
  },
  {
   "attachments": {},
   "cell_type": "markdown",
   "metadata": {},
   "source": [
    "634 KB звучит гораздо лучше, чем 500 MB при условии, что это вес используемого среза оценок по пользователям"
   ]
  },
  {
   "cell_type": "code",
   "execution_count": null,
   "metadata": {},
   "outputs": [],
   "source": [
    "synopsis_data['Genres'] = synopsis_data['Genres'].fillna('')\n",
    "genres = synopsis_data['Genres'].str.split(', ').astype(str)"
   ]
  },
  {
   "cell_type": "code",
   "execution_count": null,
   "metadata": {},
   "outputs": [],
   "source": [
    "tfidfv = TfidfVectorizer()\n",
    "tfidf_genres = tfidfv.fit_transform(genres)"
   ]
  },
  {
   "cell_type": "code",
   "execution_count": null,
   "metadata": {},
   "outputs": [],
   "source": [
    "cos_sim = cosine_similarity(tfidf_genres, tfidf_genres)\n",
    "print(type(cos_sim))"
   ]
  },
  {
   "cell_type": "code",
   "execution_count": null,
   "metadata": {},
   "outputs": [],
   "source": [
    "anime_indexes = pd.Series(synopsis_data.index, index=synopsis_data['Name'])\n",
    "print(anime_indexes)"
   ]
  },
  {
   "cell_type": "code",
   "execution_count": null,
   "metadata": {},
   "outputs": [],
   "source": [
    "title = np.random.choice(anime_indexes.index)\n",
    "print(title)"
   ]
  },
  {
   "cell_type": "code",
   "execution_count": null,
   "metadata": {},
   "outputs": [],
   "source": [
    "cos_scores = sorted(list(enumerate(cos_sim[anime_indexes[title]]))\n",
    "                    , key= lambda x: x[1]\n",
    "                    , reverse=True)\n",
    "recomendations = [i[0] for i in cos_scores[0:10]]\n",
    "similarity = [i[1] for i in cos_scores[0:10]]\n",
    "\n",
    "print(f'Recomendations for {title}:') \n",
    "\n",
    "for i, value in enumerate(recomendations):\n",
    "        print(f'''{i + 1}: {synopsis_data[\"Name\"]\n",
    "                            .iloc[value]}, with similarity {similarity[i]:{4}.{3}}''')\n",
    "    "
   ]
  },
  {
   "cell_type": "code",
   "execution_count": null,
   "metadata": {},
   "outputs": [],
   "source": [
    "result = make_recomendations_with_genre(synopsis_data, name=title)\n",
    "\n",
    "if result != None:\n",
    "    print(f' Recomendations for {result[0]}')\n",
    "    \n",
    "    for i, value in enumerate(result[1]):\n",
    "        print(f'{i + 1}: {value[0]}, with similarity in genre {value[3]:{4}.{3}}')\n",
    "else:\n",
    "    print('Anime not found')"
   ]
  },
  {
   "cell_type": "code",
   "execution_count": null,
   "metadata": {},
   "outputs": [],
   "source": [
    "result = make_recomendations_with_genre(synopsis_data\n",
    "                                        , name='Shingeki no Kyojin'\n",
    "                                        , count_recomendations= 20)\n",
    "\n",
    "if result != None:\n",
    "    print(f' Recomendations for {result[0]}')\n",
    "    for i, value in enumerate(result[1]):\n",
    "        print(f'{i + 1}: {value[0]}, with similarity in genre {value[3]:{4}.{3}}')\n",
    "else:\n",
    "    print('Anime not found')"
   ]
  },
  {
   "attachments": {},
   "cell_type": "markdown",
   "metadata": {},
   "source": [
    "... А что если проверить что-то, у чего нет 10+ частей?"
   ]
  },
  {
   "cell_type": "code",
   "execution_count": null,
   "metadata": {},
   "outputs": [],
   "source": [
    "result = make_recomendations_with_genre(synopsis_data\n",
    "                                        , name='Death Note'\n",
    "                                        , count_recomendations= 20)\n",
    "\n",
    "if result != None:\n",
    "    print(f' Recomendations for {result[0]}')\n",
    "    for i, value in enumerate(result[1]):\n",
    "        print(f'{i + 1}: {value[0]}, with similarity in genre {value[3]:{4}.{3}}')\n",
    "else:\n",
    "    print('Anime not found')"
   ]
  },
  {
   "attachments": {},
   "cell_type": "markdown",
   "metadata": {},
   "source": [
    "Однако все равно сходство на основе жанра не может нам гарантировать то, что\n",
    "рекомендоваться будет то, что действительно соответствует желаниям пользователя."
   ]
  },
  {
   "cell_type": "code",
   "execution_count": null,
   "metadata": {},
   "outputs": [],
   "source": [
    "result = make_recomendations_with_genre(synopsis_data\n",
    "                                        , name='Seishun Buta Yarou wa Bunny Girl Senpai no Yume wo Minai'\n",
    "                                        , count_recomendations= 20)\n",
    "\n",
    "if result != None:\n",
    "    print(f' Recomendations for {result[0]}')\n",
    "    for i, value in enumerate(result[1]):\n",
    "        print(f'{i + 1}: {value[0]}, with similarity in genre {value[3]:{4}.{3}}')\n",
    "else:\n",
    "    print('Anime not found')"
   ]
  },
  {
   "attachments": {},
   "cell_type": "markdown",
   "metadata": {},
   "source": [
    "Получилось не совсем то, что планировалось, но всё же. Для здоровых людей:\n",
    "- Аниме(конкретно для 12-ти серийника) для которого требовалось найти похожих\n",
    "  --- представляет собой школьный ромком с небольшим количеством\n",
    "  сверхестественного.\n",
    "- Первой рекомендацией получили аниме, название которого само говорит за себя:\n",
    "  <<Сквозь слезы я притворяюсь кошкой>>.\n",
    "\n",
    "Проверим теперь рекомендации, основываясь на описании к тайтлу."
   ]
  },
  {
   "cell_type": "code",
   "execution_count": null,
   "metadata": {},
   "outputs": [],
   "source": [
    "result = make_recomendations_with_sypnopsis(synopsis_data\n",
    "                                        , name='Seishun Buta Yarou wa Bunny Girl Senpai no Yume wo Minai'\n",
    "                                        , count_recomendations= 20)\n",
    "\n",
    "if result != None:\n",
    "    print(f' Recomendations for {result[0]}')\n",
    "    for i, value in enumerate(result[1]):\n",
    "        print(f'{i + 1}: {value[0]}, with similarity {value[3]:{4}.{3}}')\n",
    "else:\n",
    "    print('Anime not found')"
   ]
  },
  {
   "attachments": {},
   "cell_type": "markdown",
   "metadata": {},
   "source": [
    "Вроде, по моему личному опыту, это выглядит немного интереснее и более близко к тематике первоначального аниме."
   ]
  },
  {
   "cell_type": "code",
   "execution_count": null,
   "metadata": {},
   "outputs": [],
   "source": [
    "result = make_recomendations_with_sypnopsis(synopsis_data\n",
    "                                        , name='Death Note'\n",
    "                                        , count_recomendations= 20)\n",
    "\n",
    "if result != None:\n",
    "    print(f' Recomendations for {result[0]}')\n",
    "    for i, value in enumerate(result[1]):\n",
    "        print(f'{i + 1}: {value[0]}, with similarity {value[3]:{4}.{3}}')\n",
    "else:\n",
    "    print('Anime not found')"
   ]
  },
  {
   "attachments": {},
   "cell_type": "markdown",
   "metadata": {},
   "source": [
    "Рассмотрим на более популярном аниме..."
   ]
  },
  {
   "cell_type": "code",
   "execution_count": null,
   "metadata": {},
   "outputs": [],
   "source": [
    "result = make_recomendations_with_genre(synopsis_data\n",
    "                                        , name='Sword Art Online'\n",
    "                                        , count_recomendations= 20)\n",
    "\n",
    "if result != None:\n",
    "    print(f' Recomendations for {result[0]}')\n",
    "    for i, value in enumerate(result[1]):\n",
    "        print(f'{i + 1}: {value[0]}, with similarity {value[3]:{4}.{3}}')\n",
    "else:\n",
    "    print('Anime not found')"
   ]
  },
  {
   "attachments": {},
   "cell_type": "markdown",
   "metadata": {},
   "source": [
    "Мы получили 0 аниме, похожих хоть как-то на SAO(не считая его частей)..."
   ]
  },
  {
   "cell_type": "code",
   "execution_count": null,
   "metadata": {},
   "outputs": [],
   "source": [
    "result = make_recomendations_with_sypnopsis(synopsis_data\n",
    "                                        , name='Sword Art Online'\n",
    "                                        , count_recomendations= 20)\n",
    "\n",
    "if result != None:\n",
    "    print(f' Recomendations for {result[0]}')\n",
    "    for i, value in enumerate(result[1]):\n",
    "        print(f'{i + 1}: {value[0]}, with similarity {value[3]:{4}.{3}}')\n",
    "else:\n",
    "    print('Anime not found')"
   ]
  },
  {
   "attachments": {},
   "cell_type": "markdown",
   "metadata": {},
   "source": [
    "Это выглядит гораздо лучше:\n",
    "- Kyuukyoku Shinka shita Full Dive RPG ga Genjitsu yori mo Kusoge Dattara ---\n",
    "  очень похоже идейно(за исключением попаданства) на SAO и связано с игрой в vr.\n",
    "- Btooom! --- попаданец в игру...\n",
    "- Log Horizon --- попаданцы в игру + гг обоих аниме имеют какую-то общую\n",
    "  особенность + чуточку романтикии..."
   ]
  },
  {
   "cell_type": "code",
   "execution_count": null,
   "metadata": {},
   "outputs": [],
   "source": [
    "result = make_recomendations_with_genres_and_sypnopsis(synopsis_data\n",
    "                                                       , name='Sword Art Online'\n",
    "                                                       , count_recomendations= 20)\n",
    "\n",
    "if result != None:\n",
    "    print(f' Recomendations for {result[0]}')\n",
    "    for i, value in enumerate(result[1]):\n",
    "        print(f'{i + 1}: {value[0]}, with similarity {value[3]:{4}.{3}}')\n",
    "else:\n",
    "    print('Anime not found')"
   ]
  },
  {
   "attachments": {},
   "cell_type": "markdown",
   "metadata": {},
   "source": [
    "При совместном использовании мы смогли увидеть Overlord и Аватар Короля, тайтлы очень похожие на SAO"
   ]
  },
  {
   "attachments": {},
   "cell_type": "markdown",
   "metadata": {},
   "source": [
    "## Подготовка изображений"
   ]
  },
  {
   "cell_type": "code",
   "execution_count": null,
   "metadata": {},
   "outputs": [],
   "source": [
    "images = pd.read_csv( ANIME_DIR + 'anime_images.csv')\n",
    "images = images[['title','images']]\n",
    "images.head()"
   ]
  },
  {
   "cell_type": "code",
   "execution_count": null,
   "metadata": {},
   "outputs": [],
   "source": [
    "ex = images['images'][0]\n",
    "print(ex)"
   ]
  },
  {
   "cell_type": "code",
   "execution_count": null,
   "metadata": {},
   "outputs": [],
   "source": [
    "images['image_url'] = images['images'].str.split( ' \\'').apply(lambda x: x[1]).str.split(',').apply(lambda x: x[0].replace('\\'', ''))\n",
    "images = images[['title', 'image_url']]\n",
    "images.head()"
   ]
  },
  {
   "cell_type": "code",
   "execution_count": null,
   "metadata": {},
   "outputs": [],
   "source": [
    "images.to_csv('app/static/images_links.csv')"
   ]
  },
  {
   "cell_type": "code",
   "execution_count": null,
   "metadata": {},
   "outputs": [],
   "source": [
    "print(result)"
   ]
  },
  {
   "cell_type": "code",
   "execution_count": null,
   "metadata": {},
   "outputs": [],
   "source": [
    "img = [images[images['title'] == x[0]]['image_url'].values for x in result[1]]"
   ]
  },
  {
   "cell_type": "code",
   "execution_count": null,
   "metadata": {},
   "outputs": [],
   "source": [
    "print(img[1])"
   ]
  },
  {
   "cell_type": "code",
   "execution_count": 137,
   "metadata": {},
   "outputs": [
    {
     "data": {
      "text/plain": [
       "array(['https://cdn.myanimelist.net/images/anime/4/19644.jpg'],\n",
       "      dtype=object)"
      ]
     },
     "execution_count": 137,
     "metadata": {},
     "output_type": "execute_result"
    }
   ],
   "source": [
    "images[images['title'] == 'Cowboy Bebop']['image_url'].values"
   ]
  }
 ],
 "metadata": {
  "kernelspec": {
   "display_name": "recommended-network-v0tlW72M-py3.10",
   "language": "python",
   "name": "python3"
  },
  "language_info": {
   "codemirror_mode": {
    "name": "ipython",
    "version": 3
   },
   "file_extension": ".py",
   "mimetype": "text/x-python",
   "name": "python",
   "nbconvert_exporter": "python",
   "pygments_lexer": "ipython3",
   "version": "3.10.11"
  },
  "orig_nbformat": 4
 },
 "nbformat": 4,
 "nbformat_minor": 2
}
