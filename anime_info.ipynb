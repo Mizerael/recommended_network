{
 "cells": [
  {
   "cell_type": "code",
   "execution_count": null,
   "metadata": {},
   "outputs": [],
   "source": [
    "import numpy as np\n",
    "import pandas as pd\n",
    "import seaborn as sns\n",
    "import matplotlib.pyplot as plt"
   ]
  },
  {
   "cell_type": "code",
   "execution_count": null,
   "metadata": {},
   "outputs": [],
   "source": [
    "ANIME_DIR = \"anime_data/\""
   ]
  },
  {
   "attachments": {},
   "cell_type": "markdown",
   "metadata": {},
   "source": [
    "## Предобработка данных"
   ]
  },
  {
   "attachments": {},
   "cell_type": "markdown",
   "metadata": {},
   "source": [
    "### работа с признаками"
   ]
  },
  {
   "cell_type": "code",
   "execution_count": null,
   "metadata": {},
   "outputs": [],
   "source": [
    "anime_ratings = pd.read_csv(ANIME_DIR + \"animelist.csv\", nrows=10000000)\n",
    "anime_data = pd.read_csv(ANIME_DIR + \"anime.csv\")"
   ]
  },
  {
   "attachments": {},
   "cell_type": "markdown",
   "metadata": {},
   "source": [
    "Рассиморим, какая информация находится в файле $anime.csv$"
   ]
  },
  {
   "cell_type": "code",
   "execution_count": null,
   "metadata": {},
   "outputs": [],
   "source": [
    "anime_data.info()"
   ]
  },
  {
   "attachments": {},
   "cell_type": "markdown",
   "metadata": {},
   "source": [
    "Сразу переименуем колонку $MAL\\_ID$ в $anime\\_id$"
   ]
  },
  {
   "cell_type": "code",
   "execution_count": null,
   "metadata": {},
   "outputs": [],
   "source": [
    "anime_data.rename(columns={'MAL_ID':\"anime_id\"},inplace=True)"
   ]
  },
  {
   "cell_type": "code",
   "execution_count": null,
   "metadata": {},
   "outputs": [],
   "source": [
    "anime_data.columns"
   ]
  },
  {
   "attachments": {},
   "cell_type": "markdown",
   "metadata": {},
   "source": [
    "Избавимся от лишних полей"
   ]
  },
  {
   "cell_type": "code",
   "execution_count": null,
   "metadata": {},
   "outputs": [],
   "source": [
    "to_keep = ['anime_id', 'Name', 'Score', 'Genres', 'Members']\n",
    "anime_data = anime_data[to_keep]\n",
    "anime_data"
   ]
  },
  {
   "attachments": {},
   "cell_type": "markdown",
   "metadata": {},
   "source": [
    "Сейчас у нас все жанры описаны в одном поле через запятую, что не очень удобно, поэтому мы определим все жанры и добавим их как поля для каждой записи"
   ]
  },
  {
   "cell_type": "code",
   "execution_count": null,
   "metadata": {},
   "outputs": [],
   "source": [
    "genres_column = anime_data[\"Genres\"].map(lambda x: x.split(\", \"))\n",
    "genres = list(set(sum(genres_column, [])))\n",
    "\n",
    "anime_data[genres] = 0\n",
    "for i in range(0, len(genres_column)):\n",
    "    anime_data.loc[i, genres_column[i]] = 1\n",
    "\n",
    "anime_data = anime_data.drop(columns=\"Genres\")"
   ]
  },
  {
   "attachments": {},
   "cell_type": "markdown",
   "metadata": {},
   "source": [
    "Заменим Unknown в поле Score на 0"
   ]
  },
  {
   "cell_type": "code",
   "execution_count": null,
   "metadata": {},
   "outputs": [],
   "source": [
    "dict = {'Unknown' : 0}\n",
    "anime_data['Score'] = anime_data['Score'].astype(str).apply(lambda x : dict[x] if x == 'Unknown' else x).astype(float)\n",
    "\n",
    "anime_data.info()"
   ]
  },
  {
   "attachments": {},
   "cell_type": "markdown",
   "metadata": {},
   "source": [
    "Рассмотрим теперь информацию файла $animelist.csv$"
   ]
  },
  {
   "cell_type": "code",
   "execution_count": null,
   "metadata": {},
   "outputs": [],
   "source": [
    "anime_ratings.info()"
   ]
  },
  {
   "attachments": {},
   "cell_type": "markdown",
   "metadata": {},
   "source": [
    "Избавимся от информации о кол-ве просмотренных эпизодов и статусе просмотра"
   ]
  },
  {
   "cell_type": "code",
   "execution_count": null,
   "metadata": {},
   "outputs": [],
   "source": [
    "anime_ratings = anime_ratings[['user_id', 'anime_id', 'rating']]\n",
    "anime_ratings.info()"
   ]
  },
  {
   "attachments": {},
   "cell_type": "markdown",
   "metadata": {},
   "source": [
    "Проверим, есть ли оценки для всех аниме, представленных в датасете"
   ]
  },
  {
   "cell_type": "code",
   "execution_count": null,
   "metadata": {},
   "outputs": [],
   "source": [
    "anime_ratings.anime_id.nunique()"
   ]
  },
  {
   "attachments": {},
   "cell_type": "markdown",
   "metadata": {},
   "source": [
    "Это действительно так"
   ]
  },
  {
   "attachments": {},
   "cell_type": "markdown",
   "metadata": {},
   "source": [
    "Объеденим информацию из двух файлов"
   ]
  },
  {
   "cell_type": "code",
   "execution_count": null,
   "metadata": {},
   "outputs": [],
   "source": [
    "anime_complete = pd.merge(anime_data, anime_ratings, on='anime_id')\n",
    "anime_complete.info()"
   ]
  },
  {
   "attachments": {},
   "cell_type": "markdown",
   "metadata": {},
   "source": [
    "Переименуеем Score d total_score, а rating в user_score"
   ]
  },
  {
   "cell_type": "code",
   "execution_count": null,
   "metadata": {},
   "outputs": [],
   "source": [
    "anime_complete = anime_complete.rename(columns={'Score' : 'total_score', 'rating': 'user_score'})\n",
    "\n",
    "anime_complete.isna().sum()"
   ]
  },
  {
   "attachments": {},
   "cell_type": "markdown",
   "metadata": {},
   "source": [
    "сохраним полученый df в csv"
   ]
  },
  {
   "cell_type": "code",
   "execution_count": null,
   "metadata": {},
   "outputs": [],
   "source": [
    "anime_complete.to_csv(ANIME_DIR + 'complete.csv')"
   ]
  },
  {
   "attachments": {},
   "cell_type": "markdown",
   "metadata": {},
   "source": [
    "### Подготовка данных для рекомендаций"
   ]
  },
  {
   "cell_type": "code",
   "execution_count": null,
   "metadata": {},
   "outputs": [],
   "source": [
    "anime_feature = pd.read_csv(ANIME_DIR + 'complete.csv')\n",
    "anime_feature = anime_feature.drop(columns='Unnamed: 0')\n",
    "anime_feature.head()"
   ]
  },
  {
   "attachments": {},
   "cell_type": "markdown",
   "metadata": {},
   "source": [
    "Ради интереса посмотрим на 10 самых популярных аниме по кол-ву оценок и по кол-ву фанатов"
   ]
  },
  {
   "cell_type": "code",
   "execution_count": null,
   "metadata": {},
   "outputs": [],
   "source": [
    "top10_by_score = anime_feature['Name'].value_counts().nlargest(10)\n",
    "top10_by_members = anime_feature.sort_values(by='Members', ascending=False).drop_duplicates(subset='Name').head(10)"
   ]
  },
  {
   "cell_type": "code",
   "execution_count": null,
   "metadata": {},
   "outputs": [],
   "source": [
    "def draw_barplor(df_x, df_y, title, xlabel, ylabel):\n",
    "    plt.bar(df_x, df_y)\n",
    "\n",
    "    plt.title(title)\n",
    "    plt.xlabel(xlabel)\n",
    "    plt.ylabel(ylabel)\n",
    "    plt.xticks(rotation=30, ha=\"right\")\n",
    "\n",
    "    plt.show()"
   ]
  },
  {
   "cell_type": "code",
   "execution_count": null,
   "metadata": {},
   "outputs": [],
   "source": [
    "draw_barplor(top10_by_score.index, top10_by_score.values, \n",
    "             \"топ 10 по суммарному рейтингу\", \"название аниме\", \"суммарный рейтинг\")"
   ]
  },
  {
   "attachments": {},
   "cell_type": "markdown",
   "metadata": {},
   "source": [
    "И тут в поезде анимешников завязалась драка..."
   ]
  },
  {
   "cell_type": "code",
   "execution_count": null,
   "metadata": {},
   "outputs": [],
   "source": [
    "draw_barplor(top10_by_members['Name'], top10_by_members['Members'],\n",
    "             \"топ 10 по числу фанатов\", \"название аниме\", \"фанаты\")"
   ]
  },
  {
   "attachments": {},
   "cell_type": "markdown",
   "metadata": {},
   "source": [
    "...в которую ворвались адепты всемогущего, Сайтамы и 1000 - 7 ..."
   ]
  },
  {
   "attachments": {},
   "cell_type": "markdown",
   "metadata": {},
   "source": [
    "Проверим сколько в среднем поставил оценок каждый пользователь"
   ]
  },
  {
   "cell_type": "code",
   "execution_count": null,
   "metadata": {},
   "outputs": [],
   "source": [
    "count_of_users = anime_feature['user_id'].value_counts()\n",
    "count_of_users.describe()"
   ]
  },
  {
   "attachments": {},
   "cell_type": "markdown",
   "metadata": {},
   "source": [
    "Половина пользователей, оцекни которых мы собираемся использовать поставили\n",
    "оценки меньше чем $67$ анииме, однако средним значением для выборки является около\n",
    "$101$-ой оценки. Если рассматривать, что большая часть оценок поставлена по\n",
    "просмотру аниме и при этом не для каждого просмотренного аниме пользователь\n",
    "поставил оценку, то на мой взгляд выбрать для дальнейшей работы\n",
    "стоит выбрать пользователей, которые поставили оцеку $75$ и более аниме. \n",
    "\n",
    "Данное значение было взято из следующего:\n",
    "- Мной просмотрено около 300 аниме, но при этом оценка выставлена лишь половине.\n",
    "- Большая часть выходящих аниме преставляют собой 12-ти серийные сериалы,\n",
    "  средняя продолжительность которых составляет $12 * 24 / 60 = 4.8$ часа.\n",
    "- Следовательно человек, просмотревший $75$ аниме, потратил на это $360$ часов...\n",
    "\n",
    "$360$ часов можно интерпретировать примерно как год работы кинокритика, т.к\n",
    "кроме самого просмотра, человек ещё тратит какое-то время на осмысление сюжета,\n",
    "понимание мотивов героев. Если он конечно смотрит их не залпом по несколько\n",
    "аниме в день из-за кошкодевочек и им подобным)"
   ]
  },
  {
   "cell_type": "code",
   "execution_count": null,
   "metadata": {},
   "outputs": [],
   "source": [
    "print(f'{type(count_of_users)}\\n{count_of_users}')"
   ]
  },
  {
   "cell_type": "code",
   "execution_count": null,
   "metadata": {},
   "outputs": [],
   "source": [
    "anime_feature = anime_feature[anime_feature['user_id'].isin(count_of_users[count_of_users >= 75].index)]\n",
    "anime_feature.user_id.nunique()"
   ]
  },
  {
   "attachments": {},
   "cell_type": "markdown",
   "metadata": {},
   "source": [
    "создадим теперь таблицу, в которой строками будут названия аниме, а столбцами id пользователей. Значениями будут оценки"
   ]
  },
  {
   "cell_type": "code",
   "execution_count": null,
   "metadata": {},
   "outputs": [],
   "source": [
    "anime_pivot = anime_feature.pivot_table(index='Name', columns='user_id',\n",
    "                                        values='user_score').fillna(0)\n",
    "anime_pivot.head()"
   ]
  },
  {
   "attachments": {},
   "cell_type": "markdown",
   "metadata": {},
   "source": [
    "также сохраним его для дальнейшей работы"
   ]
  },
  {
   "cell_type": "code",
   "execution_count": null,
   "metadata": {},
   "outputs": [],
   "source": [
    "anime_pivot.to_csv(ANIME_DIR + 'anime_cf.csv')"
   ]
  }
 ],
 "metadata": {
  "kernelspec": {
   "display_name": "recommended-network-v0tlW72M-py3.10",
   "language": "python",
   "name": "python3"
  },
  "language_info": {
   "codemirror_mode": {
    "name": "ipython",
    "version": 3
   },
   "file_extension": ".py",
   "mimetype": "text/x-python",
   "name": "python",
   "nbconvert_exporter": "python",
   "pygments_lexer": "ipython3",
   "version": "3.10.11"
  },
  "orig_nbformat": 4
 },
 "nbformat": 4,
 "nbformat_minor": 2
}
