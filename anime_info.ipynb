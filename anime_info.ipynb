{
 "cells": [
  {
   "cell_type": "code",
   "execution_count": 1,
   "metadata": {},
   "outputs": [],
   "source": [
    "import numpy as np\n",
    "import pandas as pd\n",
    "import seaborn as sns\n",
    "import matplotlib.pyplot as plt\n",
    "import random\n",
    "import os\n",
    "import pickle\n",
    "\n",
    "from scipy.sparse import csr_matrix, save_npz\n",
    "from sklearn.neighbors import NearestNeighbors\n",
    "from sklearn.feature_extraction.text import TfidfVectorizer\n",
    "from sklearn.metrics.pairwise import cosine_similarity\n",
    "\n",
    "from source import *\n",
    "from utils import draw_barplor\n",
    "from recomendations import make_recomendations_with_cf, make_recomendations_with_genre, make_recomendations_with_sypnopsis"
   ]
  },
  {
   "attachments": {},
   "cell_type": "markdown",
   "metadata": {},
   "source": [
    "## Предобработка данных"
   ]
  },
  {
   "attachments": {},
   "cell_type": "markdown",
   "metadata": {},
   "source": [
    "### работа с признаками"
   ]
  },
  {
   "cell_type": "code",
   "execution_count": null,
   "metadata": {},
   "outputs": [],
   "source": [
    "anime_ratings = pd.read_csv(ANIME_DIR + \"animelist.csv\", nrows=10000000)\n",
    "anime_data = pd.read_csv(ANIME_DIR + \"anime.csv\")"
   ]
  },
  {
   "attachments": {},
   "cell_type": "markdown",
   "metadata": {},
   "source": [
    "Рассиморим, какая информация находится в файле $anime.csv$"
   ]
  },
  {
   "cell_type": "code",
   "execution_count": null,
   "metadata": {},
   "outputs": [],
   "source": [
    "anime_data.info()"
   ]
  },
  {
   "attachments": {},
   "cell_type": "markdown",
   "metadata": {},
   "source": [
    "Сразу переименуем колонку $MAL\\_ID$ в $anime\\_id$"
   ]
  },
  {
   "cell_type": "code",
   "execution_count": null,
   "metadata": {},
   "outputs": [],
   "source": [
    "anime_data.rename(columns={'MAL_ID':\"anime_id\"},inplace=True)\n",
    "anime_data.columns"
   ]
  },
  {
   "attachments": {},
   "cell_type": "markdown",
   "metadata": {},
   "source": [
    "Избавимся от лишних полей"
   ]
  },
  {
   "cell_type": "code",
   "execution_count": null,
   "metadata": {},
   "outputs": [],
   "source": [
    "to_keep = ['anime_id', 'Name', 'Score', 'Genres', 'Members']\n",
    "anime_data = anime_data[to_keep]\n",
    "anime_data"
   ]
  },
  {
   "attachments": {},
   "cell_type": "markdown",
   "metadata": {},
   "source": [
    "Сейчас у нас все жанры описаны в одном поле через запятую, что не очень удобно, поэтому мы определим все жанры и добавим их как поля для каждой записи"
   ]
  },
  {
   "cell_type": "code",
   "execution_count": null,
   "metadata": {},
   "outputs": [],
   "source": [
    "genres_column = anime_data[\"Genres\"].map(lambda x: x.split(\", \"))\n",
    "genres = list(set(sum(genres_column, [])))\n",
    "\n",
    "anime_data[genres] = 0\n",
    "for i in range(0, len(genres_column)):\n",
    "    anime_data.loc[i, genres_column[i]] = 1\n",
    "\n",
    "anime_data = anime_data.drop(columns=\"Genres\")"
   ]
  },
  {
   "attachments": {},
   "cell_type": "markdown",
   "metadata": {},
   "source": [
    "Заменим Unknown в поле Score на 0"
   ]
  },
  {
   "cell_type": "code",
   "execution_count": null,
   "metadata": {},
   "outputs": [],
   "source": [
    "dict = {'Unknown' : 0}\n",
    "anime_data['Score'] = anime_data['Score'].astype(str).apply(lambda x : dict[x] if x == 'Unknown' else x).astype(float)\n",
    "\n",
    "anime_data.info()"
   ]
  },
  {
   "attachments": {},
   "cell_type": "markdown",
   "metadata": {},
   "source": [
    "Рассмотрим теперь информацию файла $animelist.csv$"
   ]
  },
  {
   "cell_type": "code",
   "execution_count": null,
   "metadata": {},
   "outputs": [],
   "source": [
    "anime_ratings.info()"
   ]
  },
  {
   "attachments": {},
   "cell_type": "markdown",
   "metadata": {},
   "source": [
    "Избавимся от информации о кол-ве просмотренных эпизодов и статусе просмотра"
   ]
  },
  {
   "cell_type": "code",
   "execution_count": null,
   "metadata": {},
   "outputs": [],
   "source": [
    "anime_ratings = anime_ratings[['user_id', 'anime_id', 'rating']]\n",
    "anime_ratings.info()"
   ]
  },
  {
   "attachments": {},
   "cell_type": "markdown",
   "metadata": {},
   "source": [
    "Проверим, есть ли оценки для всех аниме, представленных в датасете"
   ]
  },
  {
   "cell_type": "code",
   "execution_count": null,
   "metadata": {},
   "outputs": [],
   "source": [
    "anime_ratings.anime_id.nunique()"
   ]
  },
  {
   "attachments": {},
   "cell_type": "markdown",
   "metadata": {},
   "source": [
    "Это действительно так"
   ]
  },
  {
   "attachments": {},
   "cell_type": "markdown",
   "metadata": {},
   "source": [
    "Объеденим информацию из двух файлов"
   ]
  },
  {
   "cell_type": "code",
   "execution_count": null,
   "metadata": {},
   "outputs": [],
   "source": [
    "anime_complete = pd.merge(anime_data, anime_ratings, on='anime_id')\n",
    "anime_complete.info()"
   ]
  },
  {
   "attachments": {},
   "cell_type": "markdown",
   "metadata": {},
   "source": [
    "Переименуеем Score в total_score, а rating в user_score"
   ]
  },
  {
   "cell_type": "code",
   "execution_count": null,
   "metadata": {},
   "outputs": [],
   "source": [
    "anime_complete = anime_complete.rename(columns={'Score' : 'total_score', 'rating': 'user_score'})\n",
    "\n",
    "anime_complete.isna().sum()"
   ]
  },
  {
   "attachments": {},
   "cell_type": "markdown",
   "metadata": {},
   "source": [
    "сохраним полученый df в csv"
   ]
  },
  {
   "cell_type": "code",
   "execution_count": null,
   "metadata": {},
   "outputs": [],
   "source": [
    "anime_complete.to_csv(ANIME_DIR + 'complete.csv')"
   ]
  },
  {
   "attachments": {},
   "cell_type": "markdown",
   "metadata": {},
   "source": [
    "### Подготовка данных для рекомендаций"
   ]
  },
  {
   "cell_type": "code",
   "execution_count": null,
   "metadata": {},
   "outputs": [],
   "source": [
    "anime_feature = pd.read_csv(ANIME_DIR + 'complete.csv')\n",
    "anime_feature = anime_feature.drop(columns='Unnamed: 0')\n",
    "anime_feature.head()"
   ]
  },
  {
   "attachments": {},
   "cell_type": "markdown",
   "metadata": {},
   "source": [
    "Ради интереса посмотрим на 10 самых популярных аниме по кол-ву оценок и по кол-ву фанатов"
   ]
  },
  {
   "cell_type": "code",
   "execution_count": null,
   "metadata": {},
   "outputs": [],
   "source": [
    "top10_by_score = anime_feature['Name'].value_counts().nlargest(10)\n",
    "top10_by_members = anime_feature.sort_values(by='Members', ascending=False).drop_duplicates(subset='Name').head(10)"
   ]
  },
  {
   "cell_type": "code",
   "execution_count": null,
   "metadata": {},
   "outputs": [],
   "source": [
    "draw_barplor(top10_by_score.index, top10_by_score.values, \n",
    "             \"топ 10 по суммарному рейтингу\", \"название аниме\", \"суммарный рейтинг\")"
   ]
  },
  {
   "attachments": {},
   "cell_type": "markdown",
   "metadata": {},
   "source": [
    "И тут в поезде анимешников завязалась драка..."
   ]
  },
  {
   "cell_type": "code",
   "execution_count": null,
   "metadata": {},
   "outputs": [],
   "source": [
    "draw_barplor(top10_by_members['Name'], top10_by_members['Members'],\n",
    "             \"топ 10 по числу фанатов\", \"название аниме\", \"фанаты\")"
   ]
  },
  {
   "attachments": {},
   "cell_type": "markdown",
   "metadata": {},
   "source": [
    "...в которую ворвались адепты Всемогущего, Сайтамы и 1000 - 7 ..."
   ]
  },
  {
   "attachments": {},
   "cell_type": "markdown",
   "metadata": {},
   "source": [
    "Проверим сколько в среднем поставил оценок каждый пользователь"
   ]
  },
  {
   "cell_type": "code",
   "execution_count": null,
   "metadata": {},
   "outputs": [],
   "source": [
    "count_of_users = anime_feature['user_id'].value_counts()\n",
    "count_of_users.describe()"
   ]
  },
  {
   "attachments": {},
   "cell_type": "markdown",
   "metadata": {},
   "source": [
    "Половина пользователей, оцекни которых мы собираемся использовать поставили\n",
    "оценки меньше чем $67$ анииме, однако средним значением для выборки является около\n",
    "$101$-ой оценки. Если рассматривать, что большая часть оценок поставлена по\n",
    "просмотру аниме и при этом не для каждого просмотренного аниме пользователь\n",
    "поставил оценку, то для дальнейшей работы\n",
    "стоит выбрать пользователей, которые поставили оцеку $75$ и более аниме. \n",
    "\n",
    "Данное значение было взято из следующего:\n",
    "- Мной просмотрено около 300 аниме, но при этом оценка выставлена лишь половине.\n",
    "- Большая часть выходящих аниме преставляют собой 12-ти серийные сериалы,\n",
    "  средняя продолжительность которых составляет $12 * 24 / 60 = 4.8$ часа.\n",
    "- Следовательно человек, просмотревший $75$ аниме, потратил на это $360$ часов...\n",
    "\n",
    "$360$ часов можно интерпретировать примерно как год работы кинокритика, т.к\n",
    "кроме самого просмотра, человек ещё тратит какое-то время на осмысление сюжета,\n",
    "понимание мотивов героев. Если он конечно смотрит их не залпом по несколько\n",
    "аниме в день из-за кошкодевочек и им подобным)"
   ]
  },
  {
   "cell_type": "code",
   "execution_count": null,
   "metadata": {},
   "outputs": [],
   "source": [
    "print(f'{type(count_of_users)}\\n{count_of_users}')"
   ]
  },
  {
   "cell_type": "code",
   "execution_count": null,
   "metadata": {},
   "outputs": [],
   "source": [
    "anime_feature = anime_feature[anime_feature['user_id'].isin(count_of_users[count_of_users >= 75].index)]\n",
    "anime_feature.user_id.nunique()"
   ]
  },
  {
   "attachments": {},
   "cell_type": "markdown",
   "metadata": {},
   "source": [
    "создадим теперь таблицу, в которой строками будут названия аниме, а столбцами id пользователей. Значениями будут оценки"
   ]
  },
  {
   "cell_type": "code",
   "execution_count": null,
   "metadata": {},
   "outputs": [],
   "source": [
    "anime_pivot = anime_feature.pivot_table(index='Name', columns='user_id',\n",
    "                                        values='user_score').fillna(0)\n",
    "anime_pivot.head()"
   ]
  },
  {
   "attachments": {},
   "cell_type": "markdown",
   "metadata": {},
   "source": [
    "также сохраним его для дальнейшей работы, предварительно преобразовав в csr_matrix для удобства разворачивания в дальнейшем"
   ]
  },
  {
   "cell_type": "code",
   "execution_count": null,
   "metadata": {},
   "outputs": [],
   "source": [
    "cf_matrix = csr_matrix(anime_pivot.values)\n",
    "save_npz(ANIME_DIR + 'cf_matrix.npz', cf_matrix)"
   ]
  },
  {
   "attachments": {},
   "cell_type": "markdown",
   "metadata": {},
   "source": [
    "## Коллаборативная рекомендация"
   ]
  },
  {
   "cell_type": "code",
   "execution_count": null,
   "metadata": {},
   "outputs": [],
   "source": [
    "# cf_matrix = load_npz(ANIME_DIR + 'cf_matrix.npz')\n",
    "anime_pivot = pd.read_csv(ANIME_DIR + 'anime_cf.csv', index_col='Name')\n",
    "anime_pivot.head()"
   ]
  },
  {
   "cell_type": "code",
   "execution_count": null,
   "metadata": {},
   "outputs": [],
   "source": [
    "anime_pivot.info()"
   ]
  },
  {
   "attachments": {},
   "cell_type": "markdown",
   "metadata": {},
   "source": [
    "Слишком много места требуется для данных. Выберем 4000 случайных пользователей и их оценки."
   ]
  },
  {
   "cell_type": "code",
   "execution_count": null,
   "metadata": {},
   "outputs": [],
   "source": [
    "copy_pivot = anime_pivot[random.sample(anime_pivot.columns.to_list(), 4000)]\n",
    "copy_pivot.info()"
   ]
  },
  {
   "cell_type": "code",
   "execution_count": null,
   "metadata": {},
   "outputs": [],
   "source": [
    "cf_matrix = csr_matrix(copy_pivot.values)"
   ]
  },
  {
   "cell_type": "code",
   "execution_count": null,
   "metadata": {},
   "outputs": [],
   "source": [
    "knn_model = NearestNeighbors(metric='cosine', algorithm='brute')\n",
    "knn_model.fit(cf_matrix)"
   ]
  },
  {
   "cell_type": "code",
   "execution_count": null,
   "metadata": {},
   "outputs": [],
   "source": [
    "anime_titles = copy_pivot.index\n",
    "anime_title = np.random.choice(anime_titles)\n",
    "query_index = copy_pivot.index.get_loc(anime_title)\n",
    "print(f\"Randomly selected anime title: {anime_title} \\n\")"
   ]
  },
  {
   "cell_type": "code",
   "execution_count": null,
   "metadata": {},
   "outputs": [],
   "source": [
    "distances, index = knn_model.kneighbors(copy_pivot.iloc[query_index, :]\n",
    "                                        .values.reshape(1, -1)\n",
    "                                        , n_neighbors=10)\n",
    "\n",
    "print(f\"Recommendations for {anime_pivot.index[query_index]}:\\n\")\n",
    "for i, ind in enumerate(index.flatten()):\n",
    "    print(f'''{i + 1}: {copy_pivot.index[ind]}, with distance {distances.flatten()[i]:{4}.{3}}''')"
   ]
  },
  {
   "cell_type": "code",
   "execution_count": null,
   "metadata": {},
   "outputs": [],
   "source": [
    "result = make_recomendations_with_cf(copy_pivot, count_recomendations=20, model_path= 'models/cf_model.sav')\n",
    "\n",
    "if result != None:\n",
    "    print(f' {20} title recomendations for {result[0]}')\n",
    "    for i, value in enumerate(result[1]):\n",
    "        print(f'{i + 1}: {value[0]}, with distance {value[1]:{4}.{3}}')"
   ]
  },
  {
   "cell_type": "code",
   "execution_count": null,
   "metadata": {},
   "outputs": [],
   "source": [
    "result = make_recomendations_with_cf(copy_pivot, count_recomendations=20, model_path= 'cf_model.sav', name='aboba')\n",
    "\n",
    "if result != None:\n",
    "    print(f' {20} title recomendations for {result[0]}')\n",
    "    for i, value in enumerate(result[1]):\n",
    "        print(f'{i + 1}: {value[0]}, with distance {value[1]:{4}.{3}}')\n",
    "else:\n",
    "    print('Anime not found')"
   ]
  },
  {
   "attachments": {},
   "cell_type": "markdown",
   "metadata": {},
   "source": [
    "## Рекомендации на основе жанра, описания"
   ]
  },
  {
   "attachments": {},
   "cell_type": "markdown",
   "metadata": {},
   "source": [
    "У метода коллаборативной фильтрации есть несколько минусов:\n",
    "1. Объем данных\n",
    "2. Существуют такие аниме, для которых есть слишком мало оценок, поэтому\n",
    "   рекомендации выстраиваются на основе предпочтений тех людей, которые\n",
    "   просмотрели это аниме и это не дает нам реальной пользы, т.к рекомендации\n",
    "   начинают работать на основе вкуса 1-2 людей"
   ]
  },
  {
   "cell_type": "code",
   "execution_count": 2,
   "metadata": {},
   "outputs": [
    {
     "data": {
      "text/html": [
       "<div>\n",
       "<style scoped>\n",
       "    .dataframe tbody tr th:only-of-type {\n",
       "        vertical-align: middle;\n",
       "    }\n",
       "\n",
       "    .dataframe tbody tr th {\n",
       "        vertical-align: top;\n",
       "    }\n",
       "\n",
       "    .dataframe thead th {\n",
       "        text-align: right;\n",
       "    }\n",
       "</style>\n",
       "<table border=\"1\" class=\"dataframe\">\n",
       "  <thead>\n",
       "    <tr style=\"text-align: right;\">\n",
       "      <th></th>\n",
       "      <th>anime_id</th>\n",
       "      <th>Name</th>\n",
       "      <th>Score</th>\n",
       "      <th>Genres</th>\n",
       "      <th>sypnopsis</th>\n",
       "    </tr>\n",
       "  </thead>\n",
       "  <tbody>\n",
       "    <tr>\n",
       "      <th>0</th>\n",
       "      <td>1</td>\n",
       "      <td>Cowboy Bebop</td>\n",
       "      <td>8.78</td>\n",
       "      <td>Action, Adventure, Comedy, Drama, Sci-Fi, Space</td>\n",
       "      <td>In the year 2071, humanity has colonized sever...</td>\n",
       "    </tr>\n",
       "    <tr>\n",
       "      <th>1</th>\n",
       "      <td>5</td>\n",
       "      <td>Cowboy Bebop: Tengoku no Tobira</td>\n",
       "      <td>8.39</td>\n",
       "      <td>Action, Drama, Mystery, Sci-Fi, Space</td>\n",
       "      <td>other day, another bounty—such is the life of ...</td>\n",
       "    </tr>\n",
       "    <tr>\n",
       "      <th>2</th>\n",
       "      <td>6</td>\n",
       "      <td>Trigun</td>\n",
       "      <td>8.24</td>\n",
       "      <td>Action, Sci-Fi, Adventure, Comedy, Drama, Shounen</td>\n",
       "      <td>Vash the Stampede is the man with a $$60,000,0...</td>\n",
       "    </tr>\n",
       "    <tr>\n",
       "      <th>3</th>\n",
       "      <td>7</td>\n",
       "      <td>Witch Hunter Robin</td>\n",
       "      <td>7.27</td>\n",
       "      <td>Action, Mystery, Police, Supernatural, Drama, ...</td>\n",
       "      <td>ches are individuals with special powers like ...</td>\n",
       "    </tr>\n",
       "    <tr>\n",
       "      <th>4</th>\n",
       "      <td>8</td>\n",
       "      <td>Bouken Ou Beet</td>\n",
       "      <td>6.98</td>\n",
       "      <td>Adventure, Fantasy, Shounen, Supernatural</td>\n",
       "      <td>It is the dark century and the people are suff...</td>\n",
       "    </tr>\n",
       "  </tbody>\n",
       "</table>\n",
       "</div>"
      ],
      "text/plain": [
       "   anime_id                             Name Score  \\\n",
       "0         1                     Cowboy Bebop  8.78   \n",
       "1         5  Cowboy Bebop: Tengoku no Tobira  8.39   \n",
       "2         6                           Trigun  8.24   \n",
       "3         7               Witch Hunter Robin  7.27   \n",
       "4         8                   Bouken Ou Beet  6.98   \n",
       "\n",
       "                                              Genres  \\\n",
       "0    Action, Adventure, Comedy, Drama, Sci-Fi, Space   \n",
       "1              Action, Drama, Mystery, Sci-Fi, Space   \n",
       "2  Action, Sci-Fi, Adventure, Comedy, Drama, Shounen   \n",
       "3  Action, Mystery, Police, Supernatural, Drama, ...   \n",
       "4          Adventure, Fantasy, Shounen, Supernatural   \n",
       "\n",
       "                                           sypnopsis  \n",
       "0  In the year 2071, humanity has colonized sever...  \n",
       "1  other day, another bounty—such is the life of ...  \n",
       "2  Vash the Stampede is the man with a $$60,000,0...  \n",
       "3  ches are individuals with special powers like ...  \n",
       "4  It is the dark century and the people are suff...  "
      ]
     },
     "execution_count": 2,
     "metadata": {},
     "output_type": "execute_result"
    }
   ],
   "source": [
    "synopsis_data = pd.read_csv(ANIME_DIR + 'anime_with_synopsis.csv')\n",
    "synopsis_data.rename(columns={'MAL_ID':\"anime_id\"},inplace=True)\n",
    "synopsis_data.head()"
   ]
  },
  {
   "cell_type": "code",
   "execution_count": null,
   "metadata": {},
   "outputs": [],
   "source": [
    "synopsis_data.info()"
   ]
  },
  {
   "attachments": {},
   "cell_type": "markdown",
   "metadata": {},
   "source": [
    "634 KB звучит гораздо лучше, чем 500 MB при условии, что это вес используемого среза оценок по пользователям"
   ]
  },
  {
   "cell_type": "code",
   "execution_count": null,
   "metadata": {},
   "outputs": [],
   "source": [
    "synopsis_data['Genres'] = synopsis_data['Genres'].fillna('')\n",
    "genres = synopsis_data['Genres'].str.split(', ').astype(str)"
   ]
  },
  {
   "cell_type": "code",
   "execution_count": null,
   "metadata": {},
   "outputs": [],
   "source": [
    "tfidfv = TfidfVectorizer()\n",
    "tfidf_genres = tfidfv.fit_transform(genres)"
   ]
  },
  {
   "cell_type": "code",
   "execution_count": null,
   "metadata": {},
   "outputs": [],
   "source": [
    "cos_sim = cosine_similarity(tfidf_genres, tfidf_genres)\n",
    "type(cos_sim)"
   ]
  },
  {
   "cell_type": "code",
   "execution_count": null,
   "metadata": {},
   "outputs": [],
   "source": [
    "anime_indexes = pd.Series(synopsis_data.index, index=synopsis_data['Name'])\n",
    "anime_indexes"
   ]
  },
  {
   "cell_type": "code",
   "execution_count": null,
   "metadata": {},
   "outputs": [],
   "source": [
    "title = np.random.choice(anime_indexes.index)\n",
    "title"
   ]
  },
  {
   "cell_type": "code",
   "execution_count": null,
   "metadata": {},
   "outputs": [],
   "source": [
    "cos_scores = sorted(list(enumerate(cos_sim[anime_indexes[title]]))\n",
    "                    , key= lambda x: x[1]\n",
    "                    , reverse=True)\n",
    "recomendations = [i[0] for i in cos_scores[0:10]]\n",
    "similarity = [i[1] for i in cos_scores[0:10]]\n",
    "\n",
    "print(f'Recomendations for {title}:') \n",
    "\n",
    "for i, value in enumerate(recomendations):\n",
    "        print(f'''{i + 1}: {synopsis_data[\"Name\"]\n",
    "                            .iloc[value]}, with similarity {similarity[i]:{4}.{3}}''')\n",
    "    "
   ]
  },
  {
   "cell_type": "code",
   "execution_count": null,
   "metadata": {},
   "outputs": [],
   "source": [
    "result = make_recomendations_with_genre(synopsis_data, name=title)\n",
    "\n",
    "if result != None:\n",
    "    print(f' Recomendations for {result[0]}')\n",
    "    \n",
    "    for i, value in enumerate(result[1]):\n",
    "        print(f'{i + 1}: {value[0]}, with similarity in genre {value[1]:{4}.{3}}')\n",
    "else:\n",
    "    print('Anime not found')"
   ]
  },
  {
   "cell_type": "code",
   "execution_count": 3,
   "metadata": {},
   "outputs": [
    {
     "name": "stdout",
     "output_type": "stream",
     "text": [
      " Recomendations for Shingeki no Kyojin\n",
      "1: Shingeki no Kyojin Season 2, with similarity in genre  1.0\n",
      "2: Shingeki no Kyojin Season 3, with similarity in genre  1.0\n",
      "3: Shingeki no Kyojin Season 3 Part 2, with similarity in genre  1.0\n",
      "4: Shingeki no Kyojin: The Final Season, with similarity in genre  1.0\n",
      "5: Shingeki no Kyojin: Chronicle, with similarity in genre  1.0\n",
      "6: Shingeki no Kyojin OVA, with similarity in genre 0.806\n",
      "7: Shingeki no Kyojin: Ano Hi Kara, with similarity in genre 0.806\n",
      "8: Shingeki no Kyojin Movie 1: Guren no Yumiya, with similarity in genre 0.806\n",
      "9: Shingeki no Kyojin Movie 2: Jiyuu no Tsubasa, with similarity in genre 0.806\n",
      "10: Shingeki no Kyojin Season 2 Movie: Kakusei no Houkou, with similarity in genre 0.806\n",
      "11: GetBackers, with similarity in genre 0.787\n",
      "12: Speed Grapher, with similarity in genre 0.76\n",
      "13: Skull Man, with similarity in genre 0.76\n",
      "14: Saint Seiya: Meiou Hades Elysion-hen, with similarity in genre 0.755\n",
      "15: Dragon Ball Z: The Real 4-D, with similarity in genre 0.755\n",
      "16: Shingeki no Kyojin-ten 360° Taikan Theater, with similarity in genre 0.755\n",
      "17: Hamatora The Animation, with similarity in genre 0.75\n",
      "18: Re:␣Hamatora, with similarity in genre 0.75\n",
      "19: Zetsubou Funsai Shoujo ∞ Amida, with similarity in genre 0.747\n",
      "20: One Piece, with similarity in genre 0.745\n"
     ]
    }
   ],
   "source": [
    "result = make_recomendations_with_genre(synopsis_data\n",
    "                                        , name='Shingeki no Kyojin'\n",
    "                                        , count_recomendations= 20)\n",
    "\n",
    "if result != None:\n",
    "    print(f' Recomendations for {result[0]}')\n",
    "    for i, value in enumerate(result[1]):\n",
    "        print(f'{i + 1}: {value[0]}, with similarity in genre {value[1]:{4}.{3}}')\n",
    "else:\n",
    "    print('Anime not found')"
   ]
  },
  {
   "attachments": {},
   "cell_type": "markdown",
   "metadata": {},
   "source": [
    "... А что если проверить что-то, у чего нет 10+ частей?"
   ]
  },
  {
   "cell_type": "code",
   "execution_count": 4,
   "metadata": {},
   "outputs": [
    {
     "name": "stdout",
     "output_type": "stream",
     "text": [
      " Recomendations for Death Note\n",
      "1: Death Note: Rewrite, with similarity in genre 0.961\n",
      "2: B: The Beginning, with similarity in genre 0.937\n",
      "3: B: The Beginning Succession, with similarity in genre 0.937\n",
      "4: Yakusoku no Neverland 2nd Season: Michishirube, with similarity in genre 0.883\n",
      "5: Mousou Dairinin, with similarity in genre 0.861\n",
      "6: Mirai Nikki, with similarity in genre 0.857\n",
      "7: Higurashi no Naku Koro ni Kai, with similarity in genre 0.839\n",
      "8: Higurashi no Naku Koro ni Rei, with similarity in genre 0.82\n",
      "9: Zankyou no Terror, with similarity in genre 0.779\n",
      "10: Mi Yu Xing Zhe, with similarity in genre 0.779\n",
      "11: Babylon, with similarity in genre 0.779\n",
      "12: Imawa no Kuni no Alice (OVA), with similarity in genre 0.772\n",
      "13: Mouryou no Hako, with similarity in genre 0.771\n",
      "14: Monster, with similarity in genre 0.757\n",
      "15: Yakusoku no Neverland 2nd Season, with similarity in genre 0.756\n",
      "16: Black Jack, with similarity in genre 0.74\n",
      "17: AD Police, with similarity in genre 0.728\n",
      "18: Higurashi no Naku Koro ni, with similarity in genre 0.69\n",
      "19: Higurashi no Naku Koro ni Gou, with similarity in genre 0.69\n",
      "20: Higurashi no Naku Koro ni Sotsu, with similarity in genre 0.69\n"
     ]
    }
   ],
   "source": [
    "result = make_recomendations_with_genre(synopsis_data\n",
    "                                        , name='Death Note'\n",
    "                                        , count_recomendations= 20)\n",
    "\n",
    "if result != None:\n",
    "    print(f' Recomendations for {result[0]}')\n",
    "    for i, value in enumerate(result[1]):\n",
    "        print(f'{i + 1}: {value[0]}, with similarity in genre {value[1]:{4}.{3}}')\n",
    "else:\n",
    "    print('Anime not found')"
   ]
  },
  {
   "attachments": {},
   "cell_type": "markdown",
   "metadata": {},
   "source": [
    "Однако все равно сходство на основе жанра не может нам гарантировать то, что\n",
    "рекомендоваться будет то, что действительно соответствует желаниям пользователя."
   ]
  },
  {
   "cell_type": "code",
   "execution_count": 5,
   "metadata": {},
   "outputs": [
    {
     "name": "stdout",
     "output_type": "stream",
     "text": [
      " Recomendations for Seishun Buta Yarou wa Bunny Girl Senpai no Yume wo Minai\n",
      "1: Nakitai Watashi wa Neko wo Kaburu, with similarity in genre  1.0\n",
      "2: Wind: A Breath of Heart (TV), with similarity in genre 0.955\n",
      "3: Wind: A Breath of Heart OVA, with similarity in genre 0.955\n",
      "4: Aura: Maryuuin Kouga Saigo no Tatakai, with similarity in genre 0.955\n",
      "5: Kimi no Na wa., with similarity in genre 0.955\n",
      "6: Seishun Buta Yarou wa Yumemiru Shoujo no Yume wo Minai, with similarity in genre 0.955\n",
      "7: Rokujouma no Shinryakusha!?, with similarity in genre 0.906\n",
      "8: Otome wa Boku ni Koishiteru, with similarity in genre 0.858\n",
      "9: Keitai Shoujo, with similarity in genre 0.858\n",
      "10: Ajimu: Kaigan Monogatari, with similarity in genre 0.858\n",
      "11: Kotoura-san, with similarity in genre 0.858\n",
      "12: Suki ni Naru Sono Shunkan wo.: Kokuhaku Jikkou Iinkai, with similarity in genre 0.858\n",
      "13: Itsudatte Bokura no Koi wa 10 cm Datta., with similarity in genre 0.858\n",
      "14: Rewrite, with similarity in genre 0.841\n",
      "15: Shakugan no Shana, with similarity in genre 0.833\n",
      "16: Shakugan no Shana II (Second), with similarity in genre 0.833\n",
      "17: Shakugan no Shana S, with similarity in genre 0.833\n",
      "18: Angel Beats!: Another Epilogue, with similarity in genre 0.83\n",
      "19: Air Movie, with similarity in genre 0.815\n",
      "20: Mizuiro (2003), with similarity in genre 0.815\n"
     ]
    }
   ],
   "source": [
    "result = make_recomendations_with_genre(synopsis_data\n",
    "                                        , name='Seishun Buta Yarou wa Bunny Girl Senpai no Yume wo Minai'\n",
    "                                        , count_recomendations= 20)\n",
    "\n",
    "if result != None:\n",
    "    print(f' Recomendations for {result[0]}')\n",
    "    for i, value in enumerate(result[1]):\n",
    "        print(f'{i + 1}: {value[0]}, with similarity in genre {value[1]:{4}.{3}}')\n",
    "else:\n",
    "    print('Anime not found')"
   ]
  },
  {
   "attachments": {},
   "cell_type": "markdown",
   "metadata": {},
   "source": [
    "Получилось не совсем то, что планировалось, но всё же. Для здоровых людей:\n",
    "- Аниме(конкретно для 12-ти серийника) для которого требовалось найти похожих\n",
    "  --- представляет собой школьный ромком с небольшим количеством\n",
    "  сверхестественного.\n",
    "- Первой рекомендацией получили аниме, название которого само говорит за себя:\n",
    "  <<Сквозь слезы я притворяюсь кошкой>>.\n",
    "\n",
    "Проверим теперь рекомендации, основываясь на описании к тайтлу."
   ]
  },
  {
   "cell_type": "code",
   "execution_count": 6,
   "metadata": {},
   "outputs": [
    {
     "name": "stdout",
     "output_type": "stream",
     "text": [
      " Recomendations for Seishun Buta Yarou wa Bunny Girl Senpai no Yume wo Minai\n",
      "1: Seishun Buta Yarou wa Yumemiru Shoujo no Yume wo Minai, with similarity 0.28\n",
      "2: Märchen Mädchen, with similarity 0.232\n",
      "3: Anime Himitsu no Hanazono, with similarity 0.223\n",
      "4: Kamichama Karin, with similarity 0.221\n",
      "5: Mahou no Star Magical Emi, with similarity 0.216\n",
      "6: Kumo Desu ga, Nani ka?, with similarity 0.216\n",
      "7: Gotou ni Naritai., with similarity 0.214\n",
      "8: Kirara, with similarity 0.207\n",
      "9: Mirai Nikki: Redial, with similarity 0.207\n",
      "10: Amnesia, with similarity 0.206\n",
      "11: Mahou Shoujo Site, with similarity 0.206\n",
      "12: Joshikousei no Mudazukai, with similarity 0.206\n",
      "13: Kareshi Kanojo no Jijou, with similarity 0.206\n",
      "14: Hirune Hime: Shiranai Watashi no Monogatari, with similarity 0.205\n",
      "15: Wotaku ni Koi wa Muzukashii, with similarity 0.205\n",
      "16: Code-E, with similarity 0.201\n",
      "17: Gakkougurashi!, with similarity  0.2\n",
      "18: Hiiro no Kakera, with similarity 0.199\n",
      "19: Cyclops Shoujo Saipuu, with similarity 0.199\n",
      "20: Love Live! Sunshine!!, with similarity 0.198\n"
     ]
    }
   ],
   "source": [
    "result = make_recomendations_with_sypnopsis(synopsis_data\n",
    "                                        , name='Seishun Buta Yarou wa Bunny Girl Senpai no Yume wo Minai'\n",
    "                                        , count_recomendations= 20)\n",
    "\n",
    "if result != None:\n",
    "    print(f' Recomendations for {result[0]}')\n",
    "    for i, value in enumerate(result[1]):\n",
    "        print(f'{i + 1}: {value[0]}, with similarity {value[1]:{4}.{3}}')\n",
    "else:\n",
    "    print('Anime not found')"
   ]
  },
  {
   "attachments": {},
   "cell_type": "markdown",
   "metadata": {},
   "source": [
    "Вроде, по моему личному опыту, это выглядит немного интереснее и более близко к тематике первоначального аниме."
   ]
  },
  {
   "cell_type": "code",
   "execution_count": 7,
   "metadata": {},
   "outputs": [
    {
     "name": "stdout",
     "output_type": "stream",
     "text": [
      " Recomendations for Death Note\n",
      "1: Death Note: Rewrite, with similarity 0.314\n",
      "2: Soul Eater, with similarity 0.251\n",
      "3: Shinigami no Ballad., with similarity 0.245\n",
      "4: YAT Anshin! Uchuu Ryokou 2, with similarity 0.222\n",
      "5: Dia Horizon (Kabu), with similarity 0.207\n",
      "6: Persona 3 the Movie 4: Winter of Rebirth, with similarity 0.206\n",
      "7: Yami no Matsuei, with similarity 0.202\n",
      "8: Zombie-Loan, with similarity 0.198\n",
      "9: Bleach: Memories in the Rain, with similarity 0.197\n",
      "10: Shiki, with similarity 0.196\n",
      "11: Sword Art Online II, with similarity 0.196\n",
      "12: Neppuu Kairiku Bushi Road, with similarity 0.196\n",
      "13: Shironeko Project: Zero Chronicle, with similarity 0.192\n",
      "14: Gantz:O, with similarity 0.189\n",
      "15: Choujuu Densetsu Gestalt, with similarity 0.188\n",
      "16: Koutetsujou no Kabaneri, with similarity 0.188\n",
      "17: Renkin San-kyuu Magical? Pokaan, with similarity 0.187\n",
      "18: Utsunomiko: Heaven Chapter, with similarity 0.187\n",
      "19: Nissan Note x The World of Golden Eggs, with similarity 0.185\n",
      "20: Bungou Stray Dogs 3rd Season, with similarity 0.185\n"
     ]
    }
   ],
   "source": [
    "result = make_recomendations_with_sypnopsis(synopsis_data\n",
    "                                        , name='Death Note'\n",
    "                                        , count_recomendations= 20)\n",
    "\n",
    "if result != None:\n",
    "    print(f' Recomendations for {result[0]}')\n",
    "    for i, value in enumerate(result[1]):\n",
    "        print(f'{i + 1}: {value[0]}, with similarity {value[1]:{4}.{3}}')\n",
    "else:\n",
    "    print('Anime not found')"
   ]
  },
  {
   "attachments": {},
   "cell_type": "markdown",
   "metadata": {},
   "source": [
    "Рассмотрим на более популярном аниме..."
   ]
  },
  {
   "cell_type": "code",
   "execution_count": 8,
   "metadata": {},
   "outputs": [
    {
     "name": "stdout",
     "output_type": "stream",
     "text": [
      " Recomendations for Sword Art Online\n",
      "1: Sword Art Online: Extra Edition, with similarity  1.0\n",
      "2: Sword Art Online II, with similarity  1.0\n",
      "3: Sword Art Online Movie: Ordinal Scale, with similarity  1.0\n",
      "4: Chou Yuu Sekai: Being the Reality, with similarity  1.0\n",
      "5: Sword Art Online: Alicization, with similarity  1.0\n",
      "6: Sword Art Online: Alicization - War of Underworld, with similarity  1.0\n",
      "7: Sword Art Online: Alicization - War of Underworld Reflection, with similarity  1.0\n",
      "8: Sword Art Online: Alicization - War of Underworld 2nd Season, with similarity  1.0\n",
      "9: Sword Art Online: Alicization - War of Underworld Recap, with similarity  1.0\n",
      "10: Sword Art Online: Progressive Movie - Hoshi Naki Yoru no Aria, with similarity  1.0\n",
      "11: Ys IV: The Dawn of Ys, with similarity  0.9\n",
      "12: Sword Art Online II: Debriefing, with similarity  0.9\n",
      "13: Valhait Rising: Kandou e., with similarity  0.9\n",
      "14: Slime Boukenki: Umi da, Yeah!, with similarity 0.86\n",
      "15: Battle Spirits: Sword Eyes, with similarity 0.834\n",
      "16: Battle Spirits: Sword Eyes Gekitouden, with similarity 0.834\n",
      "17: Pokemon Generations, with similarity 0.826\n",
      "18: Bakugan Battle Brawlers, with similarity 0.818\n",
      "19: Monster Strike, with similarity 0.818\n",
      "20: Monster Strike: Mermaid Rhapsody, with similarity 0.818\n"
     ]
    }
   ],
   "source": [
    "result = make_recomendations_with_genre(synopsis_data\n",
    "                                        , name='Sword Art Online'\n",
    "                                        , count_recomendations= 20)\n",
    "\n",
    "if result != None:\n",
    "    print(f' Recomendations for {result[0]}')\n",
    "    for i, value in enumerate(result[1]):\n",
    "        print(f'{i + 1}: {value[0]}, with similarity {value[1]:{4}.{3}}')\n",
    "else:\n",
    "    print('Anime not found')"
   ]
  },
  {
   "attachments": {},
   "cell_type": "markdown",
   "metadata": {},
   "source": [
    "Мы получили 0 аниме, похожих хоть как-то на SAO(не считая его частей)..."
   ]
  },
  {
   "cell_type": "code",
   "execution_count": 9,
   "metadata": {},
   "outputs": [
    {
     "name": "stdout",
     "output_type": "stream",
     "text": [
      " Recomendations for Sword Art Online\n",
      "1: Sword Art Online: Progressive Movie - Hoshi Naki Yoru no Aria, with similarity 0.459\n",
      "2: Sword Art Online Movie: Ordinal Scale, with similarity 0.395\n",
      "3: Sword Art Online II, with similarity 0.354\n",
      "4: Sword Art Online: Alicization - War of Underworld 2nd Season, with similarity  0.3\n",
      "5: Sword Art Online: Extra Edition, with similarity 0.296\n",
      "6: Kyuukyoku Shinka shita Full Dive RPG ga Genjitsu yori mo Kusoge Dattara, with similarity 0.26\n",
      "7: WIXOSS Diva(A)Live, with similarity 0.254\n",
      "8: Btooom!, with similarity 0.247\n",
      "9: Genei Toushi Bastof Lemon, with similarity 0.24\n",
      "10: Omoikkiri Kagaku Adventure Sou Nanda!, with similarity 0.239\n",
      "11: Ryuu ga Gotoku Online x Taka no Tsume, with similarity 0.238\n",
      "12: Log Horizon, with similarity 0.237\n",
      "13: Sword Art Online: Alicization, with similarity 0.234\n",
      "14: Sword Art Online: Alicization - War of Underworld, with similarity 0.227\n",
      "15: Kyokugen Dasshutsu Adv: Zennin Shibou Desu Prologue, with similarity 0.227\n",
      "16: Sword Art Online Alternative: Gun Gale Online, with similarity 0.222\n",
      "17: Gin no Guardian II, with similarity 0.219\n",
      "18: .hack//Intermezzo, with similarity 0.217\n",
      "19: .hack//The Movie: Sekai no Mukou ni, with similarity 0.217\n",
      "20: Mahou Shoujo Ikusei Keikaku, with similarity 0.217\n"
     ]
    }
   ],
   "source": [
    "result = make_recomendations_with_sypnopsis(synopsis_data\n",
    "                                        , name='Sword Art Online'\n",
    "                                        , count_recomendations= 20)\n",
    "\n",
    "if result != None:\n",
    "    print(f' Recomendations for {result[0]}')\n",
    "    for i, value in enumerate(result[1]):\n",
    "        print(f'{i + 1}: {value[0]}, with similarity {value[1]:{4}.{3}}')\n",
    "else:\n",
    "    print('Anime not found')"
   ]
  },
  {
   "attachments": {},
   "cell_type": "markdown",
   "metadata": {},
   "source": [
    "Это выглядит гораздо лучше:\n",
    "- Kyuukyoku Shinka shita Full Dive RPG ga Genjitsu yori mo Kusoge Dattara ---\n",
    "  очень похоже идейно(за исключением попаданства) на SAO и связано с игрой в vr.\n",
    "- Btooom! --- попаданец в игру...\n",
    "- Log Horizon --- попаданцы в игру + гг обоих аниме имеют какую-то общую\n",
    "  особенность + чуточку романтикии..."
   ]
  }
 ],
 "metadata": {
  "kernelspec": {
   "display_name": "recommended-network-v0tlW72M-py3.10",
   "language": "python",
   "name": "python3"
  },
  "language_info": {
   "codemirror_mode": {
    "name": "ipython",
    "version": 3
   },
   "file_extension": ".py",
   "mimetype": "text/x-python",
   "name": "python",
   "nbconvert_exporter": "python",
   "pygments_lexer": "ipython3",
   "version": "3.10.11"
  },
  "orig_nbformat": 4
 },
 "nbformat": 4,
 "nbformat_minor": 2
}
