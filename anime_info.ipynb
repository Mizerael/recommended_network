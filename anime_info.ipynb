{
 "cells": [
  {
   "cell_type": "code",
   "execution_count": 140,
   "metadata": {},
   "outputs": [],
   "source": [
    "import numpy as np\n",
    "import pandas as pd\n",
    "import seaborn as sns\n",
    "import matplotlib.pyplot as plt\n",
    "import random\n",
    "import os\n",
    "import pickle\n",
    "\n",
    "from typing import Optional\n",
    "from scipy.sparse import csr_matrix, save_npz, load_npz\n",
    "from sklearn.neighbors import NearestNeighbors\n",
    "\n",
    "from utils import draw_barplor\n",
    "from recomendations import make_recomendations_with_cf"
   ]
  },
  {
   "cell_type": "code",
   "execution_count": 141,
   "metadata": {},
   "outputs": [],
   "source": [
    "ANIME_DIR = \"anime_data/\""
   ]
  },
  {
   "attachments": {},
   "cell_type": "markdown",
   "metadata": {},
   "source": [
    "## Предобработка данных"
   ]
  },
  {
   "attachments": {},
   "cell_type": "markdown",
   "metadata": {},
   "source": [
    "### работа с признаками"
   ]
  },
  {
   "cell_type": "code",
   "execution_count": null,
   "metadata": {},
   "outputs": [],
   "source": [
    "anime_ratings = pd.read_csv(ANIME_DIR + \"animelist.csv\", nrows=10000000)\n",
    "anime_data = pd.read_csv(ANIME_DIR + \"anime.csv\")"
   ]
  },
  {
   "attachments": {},
   "cell_type": "markdown",
   "metadata": {},
   "source": [
    "Рассиморим, какая информация находится в файле $anime.csv$"
   ]
  },
  {
   "cell_type": "code",
   "execution_count": null,
   "metadata": {},
   "outputs": [],
   "source": [
    "anime_data.info()"
   ]
  },
  {
   "attachments": {},
   "cell_type": "markdown",
   "metadata": {},
   "source": [
    "Сразу переименуем колонку $MAL\\_ID$ в $anime\\_id$"
   ]
  },
  {
   "cell_type": "code",
   "execution_count": null,
   "metadata": {},
   "outputs": [],
   "source": [
    "anime_data.rename(columns={'MAL_ID':\"anime_id\"},inplace=True)\n",
    "anime_data.columns"
   ]
  },
  {
   "attachments": {},
   "cell_type": "markdown",
   "metadata": {},
   "source": [
    "Избавимся от лишних полей"
   ]
  },
  {
   "cell_type": "code",
   "execution_count": null,
   "metadata": {},
   "outputs": [],
   "source": [
    "to_keep = ['anime_id', 'Name', 'Score', 'Genres', 'Members']\n",
    "anime_data = anime_data[to_keep]\n",
    "anime_data"
   ]
  },
  {
   "attachments": {},
   "cell_type": "markdown",
   "metadata": {},
   "source": [
    "Сейчас у нас все жанры описаны в одном поле через запятую, что не очень удобно, поэтому мы определим все жанры и добавим их как поля для каждой записи"
   ]
  },
  {
   "cell_type": "code",
   "execution_count": null,
   "metadata": {},
   "outputs": [],
   "source": [
    "genres_column = anime_data[\"Genres\"].map(lambda x: x.split(\", \"))\n",
    "genres = list(set(sum(genres_column, [])))\n",
    "\n",
    "anime_data[genres] = 0\n",
    "for i in range(0, len(genres_column)):\n",
    "    anime_data.loc[i, genres_column[i]] = 1\n",
    "\n",
    "anime_data = anime_data.drop(columns=\"Genres\")"
   ]
  },
  {
   "attachments": {},
   "cell_type": "markdown",
   "metadata": {},
   "source": [
    "Заменим Unknown в поле Score на 0"
   ]
  },
  {
   "cell_type": "code",
   "execution_count": null,
   "metadata": {},
   "outputs": [],
   "source": [
    "dict = {'Unknown' : 0}\n",
    "anime_data['Score'] = anime_data['Score'].astype(str).apply(lambda x : dict[x] if x == 'Unknown' else x).astype(float)\n",
    "\n",
    "anime_data.info()"
   ]
  },
  {
   "attachments": {},
   "cell_type": "markdown",
   "metadata": {},
   "source": [
    "Рассмотрим теперь информацию файла $animelist.csv$"
   ]
  },
  {
   "cell_type": "code",
   "execution_count": null,
   "metadata": {},
   "outputs": [],
   "source": [
    "anime_ratings.info()"
   ]
  },
  {
   "attachments": {},
   "cell_type": "markdown",
   "metadata": {},
   "source": [
    "Избавимся от информации о кол-ве просмотренных эпизодов и статусе просмотра"
   ]
  },
  {
   "cell_type": "code",
   "execution_count": null,
   "metadata": {},
   "outputs": [],
   "source": [
    "anime_ratings = anime_ratings[['user_id', 'anime_id', 'rating']]\n",
    "anime_ratings.info()"
   ]
  },
  {
   "attachments": {},
   "cell_type": "markdown",
   "metadata": {},
   "source": [
    "Проверим, есть ли оценки для всех аниме, представленных в датасете"
   ]
  },
  {
   "cell_type": "code",
   "execution_count": null,
   "metadata": {},
   "outputs": [],
   "source": [
    "anime_ratings.anime_id.nunique()"
   ]
  },
  {
   "attachments": {},
   "cell_type": "markdown",
   "metadata": {},
   "source": [
    "Это действительно так"
   ]
  },
  {
   "attachments": {},
   "cell_type": "markdown",
   "metadata": {},
   "source": [
    "Объеденим информацию из двух файлов"
   ]
  },
  {
   "cell_type": "code",
   "execution_count": null,
   "metadata": {},
   "outputs": [],
   "source": [
    "anime_complete = pd.merge(anime_data, anime_ratings, on='anime_id')\n",
    "anime_complete.info()"
   ]
  },
  {
   "attachments": {},
   "cell_type": "markdown",
   "metadata": {},
   "source": [
    "Переименуеем Score d total_score, а rating в user_score"
   ]
  },
  {
   "cell_type": "code",
   "execution_count": null,
   "metadata": {},
   "outputs": [],
   "source": [
    "anime_complete = anime_complete.rename(columns={'Score' : 'total_score', 'rating': 'user_score'})\n",
    "\n",
    "anime_complete.isna().sum()"
   ]
  },
  {
   "attachments": {},
   "cell_type": "markdown",
   "metadata": {},
   "source": [
    "сохраним полученый df в csv"
   ]
  },
  {
   "cell_type": "code",
   "execution_count": null,
   "metadata": {},
   "outputs": [],
   "source": [
    "anime_complete.to_csv(ANIME_DIR + 'complete.csv')"
   ]
  },
  {
   "attachments": {},
   "cell_type": "markdown",
   "metadata": {},
   "source": [
    "### Подготовка данных для рекомендаций"
   ]
  },
  {
   "cell_type": "code",
   "execution_count": 4,
   "metadata": {},
   "outputs": [
    {
     "data": {
      "text/html": [
       "<div>\n",
       "<style scoped>\n",
       "    .dataframe tbody tr th:only-of-type {\n",
       "        vertical-align: middle;\n",
       "    }\n",
       "\n",
       "    .dataframe tbody tr th {\n",
       "        vertical-align: top;\n",
       "    }\n",
       "\n",
       "    .dataframe thead th {\n",
       "        text-align: right;\n",
       "    }\n",
       "</style>\n",
       "<table border=\"1\" class=\"dataframe\">\n",
       "  <thead>\n",
       "    <tr style=\"text-align: right;\">\n",
       "      <th></th>\n",
       "      <th>anime_id</th>\n",
       "      <th>Name</th>\n",
       "      <th>total_score</th>\n",
       "      <th>Members</th>\n",
       "      <th>Kids</th>\n",
       "      <th>Super Power</th>\n",
       "      <th>Action</th>\n",
       "      <th>Sci-Fi</th>\n",
       "      <th>Shounen Ai</th>\n",
       "      <th>Ecchi</th>\n",
       "      <th>...</th>\n",
       "      <th>Seinen</th>\n",
       "      <th>Historical</th>\n",
       "      <th>Hentai</th>\n",
       "      <th>Dementia</th>\n",
       "      <th>Drama</th>\n",
       "      <th>Demons</th>\n",
       "      <th>Shounen</th>\n",
       "      <th>Horror</th>\n",
       "      <th>user_id</th>\n",
       "      <th>user_score</th>\n",
       "    </tr>\n",
       "  </thead>\n",
       "  <tbody>\n",
       "    <tr>\n",
       "      <th>0</th>\n",
       "      <td>1</td>\n",
       "      <td>Cowboy Bebop</td>\n",
       "      <td>8.78</td>\n",
       "      <td>1251960</td>\n",
       "      <td>0</td>\n",
       "      <td>0</td>\n",
       "      <td>1</td>\n",
       "      <td>1</td>\n",
       "      <td>0</td>\n",
       "      <td>0</td>\n",
       "      <td>...</td>\n",
       "      <td>0</td>\n",
       "      <td>0</td>\n",
       "      <td>0</td>\n",
       "      <td>0</td>\n",
       "      <td>1</td>\n",
       "      <td>0</td>\n",
       "      <td>0</td>\n",
       "      <td>0</td>\n",
       "      <td>21812</td>\n",
       "      <td>8</td>\n",
       "    </tr>\n",
       "    <tr>\n",
       "      <th>1</th>\n",
       "      <td>1</td>\n",
       "      <td>Cowboy Bebop</td>\n",
       "      <td>8.78</td>\n",
       "      <td>1251960</td>\n",
       "      <td>0</td>\n",
       "      <td>0</td>\n",
       "      <td>1</td>\n",
       "      <td>1</td>\n",
       "      <td>0</td>\n",
       "      <td>0</td>\n",
       "      <td>...</td>\n",
       "      <td>0</td>\n",
       "      <td>0</td>\n",
       "      <td>0</td>\n",
       "      <td>0</td>\n",
       "      <td>1</td>\n",
       "      <td>0</td>\n",
       "      <td>0</td>\n",
       "      <td>0</td>\n",
       "      <td>26660</td>\n",
       "      <td>0</td>\n",
       "    </tr>\n",
       "    <tr>\n",
       "      <th>2</th>\n",
       "      <td>1</td>\n",
       "      <td>Cowboy Bebop</td>\n",
       "      <td>8.78</td>\n",
       "      <td>1251960</td>\n",
       "      <td>0</td>\n",
       "      <td>0</td>\n",
       "      <td>1</td>\n",
       "      <td>1</td>\n",
       "      <td>0</td>\n",
       "      <td>0</td>\n",
       "      <td>...</td>\n",
       "      <td>0</td>\n",
       "      <td>0</td>\n",
       "      <td>0</td>\n",
       "      <td>0</td>\n",
       "      <td>1</td>\n",
       "      <td>0</td>\n",
       "      <td>0</td>\n",
       "      <td>0</td>\n",
       "      <td>11682</td>\n",
       "      <td>9</td>\n",
       "    </tr>\n",
       "    <tr>\n",
       "      <th>3</th>\n",
       "      <td>1</td>\n",
       "      <td>Cowboy Bebop</td>\n",
       "      <td>8.78</td>\n",
       "      <td>1251960</td>\n",
       "      <td>0</td>\n",
       "      <td>0</td>\n",
       "      <td>1</td>\n",
       "      <td>1</td>\n",
       "      <td>0</td>\n",
       "      <td>0</td>\n",
       "      <td>...</td>\n",
       "      <td>0</td>\n",
       "      <td>0</td>\n",
       "      <td>0</td>\n",
       "      <td>0</td>\n",
       "      <td>1</td>\n",
       "      <td>0</td>\n",
       "      <td>0</td>\n",
       "      <td>0</td>\n",
       "      <td>31629</td>\n",
       "      <td>10</td>\n",
       "    </tr>\n",
       "    <tr>\n",
       "      <th>4</th>\n",
       "      <td>1</td>\n",
       "      <td>Cowboy Bebop</td>\n",
       "      <td>8.78</td>\n",
       "      <td>1251960</td>\n",
       "      <td>0</td>\n",
       "      <td>0</td>\n",
       "      <td>1</td>\n",
       "      <td>1</td>\n",
       "      <td>0</td>\n",
       "      <td>0</td>\n",
       "      <td>...</td>\n",
       "      <td>0</td>\n",
       "      <td>0</td>\n",
       "      <td>0</td>\n",
       "      <td>0</td>\n",
       "      <td>1</td>\n",
       "      <td>0</td>\n",
       "      <td>0</td>\n",
       "      <td>0</td>\n",
       "      <td>27887</td>\n",
       "      <td>9</td>\n",
       "    </tr>\n",
       "  </tbody>\n",
       "</table>\n",
       "<p>5 rows × 50 columns</p>\n",
       "</div>"
      ],
      "text/plain": [
       "   anime_id          Name  total_score  Members  Kids  Super Power  Action   \n",
       "0         1  Cowboy Bebop         8.78  1251960     0            0       1  \\\n",
       "1         1  Cowboy Bebop         8.78  1251960     0            0       1   \n",
       "2         1  Cowboy Bebop         8.78  1251960     0            0       1   \n",
       "3         1  Cowboy Bebop         8.78  1251960     0            0       1   \n",
       "4         1  Cowboy Bebop         8.78  1251960     0            0       1   \n",
       "\n",
       "   Sci-Fi  Shounen Ai  Ecchi  ...  Seinen  Historical  Hentai  Dementia   \n",
       "0       1           0      0  ...       0           0       0         0  \\\n",
       "1       1           0      0  ...       0           0       0         0   \n",
       "2       1           0      0  ...       0           0       0         0   \n",
       "3       1           0      0  ...       0           0       0         0   \n",
       "4       1           0      0  ...       0           0       0         0   \n",
       "\n",
       "   Drama  Demons  Shounen  Horror  user_id  user_score  \n",
       "0      1       0        0       0    21812           8  \n",
       "1      1       0        0       0    26660           0  \n",
       "2      1       0        0       0    11682           9  \n",
       "3      1       0        0       0    31629          10  \n",
       "4      1       0        0       0    27887           9  \n",
       "\n",
       "[5 rows x 50 columns]"
      ]
     },
     "execution_count": 4,
     "metadata": {},
     "output_type": "execute_result"
    }
   ],
   "source": [
    "anime_feature = pd.read_csv(ANIME_DIR + 'complete.csv')\n",
    "anime_feature = anime_feature.drop(columns='Unnamed: 0')\n",
    "anime_feature.head()"
   ]
  },
  {
   "attachments": {},
   "cell_type": "markdown",
   "metadata": {},
   "source": [
    "Ради интереса посмотрим на 10 самых популярных аниме по кол-ву оценок и по кол-ву фанатов"
   ]
  },
  {
   "cell_type": "code",
   "execution_count": 5,
   "metadata": {},
   "outputs": [],
   "source": [
    "top10_by_score = anime_feature['Name'].value_counts().nlargest(10)\n",
    "top10_by_members = anime_feature.sort_values(by='Members', ascending=False).drop_duplicates(subset='Name').head(10)"
   ]
  },
  {
   "cell_type": "code",
   "execution_count": 6,
   "metadata": {},
   "outputs": [
    {
     "data": {
      "image/png": "[encoded data removed]",
      "text/plain": [
       "<Figure size 640x480 with 1 Axes>"
      ]
     },
     "metadata": {},
     "output_type": "display_data"
    }
   ],
   "source": [
    "draw_barplor(top10_by_score.index, top10_by_score.values, \n",
    "             \"топ 10 по суммарному рейтингу\", \"название аниме\", \"суммарный рейтинг\")"
   ]
  },
  {
   "attachments": {},
   "cell_type": "markdown",
   "metadata": {},
   "source": [
    "И тут в поезде анимешников завязалась драка..."
   ]
  },
  {
   "cell_type": "code",
   "execution_count": 7,
   "metadata": {},
   "outputs": [
    {
     "data": {
      "image/png": "[encoded data removed]",
      "text/plain": [
       "<Figure size 640x480 with 1 Axes>"
      ]
     },
     "metadata": {},
     "output_type": "display_data"
    }
   ],
   "source": [
    "draw_barplor(top10_by_members['Name'], top10_by_members['Members'],\n",
    "             \"топ 10 по числу фанатов\", \"название аниме\", \"фанаты\")"
   ]
  },
  {
   "attachments": {},
   "cell_type": "markdown",
   "metadata": {},
   "source": [
    "...в которую ворвались адепты Всемогущего, Сайтамы и 1000 - 7 ..."
   ]
  },
  {
   "attachments": {},
   "cell_type": "markdown",
   "metadata": {},
   "source": [
    "Проверим сколько в среднем поставил оценок каждый пользователь"
   ]
  },
  {
   "cell_type": "code",
   "execution_count": 8,
   "metadata": {},
   "outputs": [
    {
     "data": {
      "text/plain": [
       "count    29569.000000\n",
       "mean       101.457608\n",
       "std        126.568665\n",
       "min          1.000000\n",
       "25%         29.000000\n",
       "50%         67.000000\n",
       "75%        132.000000\n",
       "max       5256.000000\n",
       "Name: count, dtype: float64"
      ]
     },
     "execution_count": 8,
     "metadata": {},
     "output_type": "execute_result"
    }
   ],
   "source": [
    "count_of_users = anime_feature['user_id'].value_counts()\n",
    "count_of_users.describe()"
   ]
  },
  {
   "attachments": {},
   "cell_type": "markdown",
   "metadata": {},
   "source": [
    "Половина пользователей, оцекни которых мы собираемся использовать поставили\n",
    "оценки меньше чем $67$ анииме, однако средним значением для выборки является около\n",
    "$101$-ой оценки. Если рассматривать, что большая часть оценок поставлена по\n",
    "просмотру аниме и при этом не для каждого просмотренного аниме пользователь\n",
    "поставил оценку, то для дальнейшей работы\n",
    "стоит выбрать пользователей, которые поставили оцеку $75$ и более аниме. \n",
    "\n",
    "Данное значение было взято из следующего:\n",
    "- Мной просмотрено около 300 аниме, но при этом оценка выставлена лишь половине.\n",
    "- Большая часть выходящих аниме преставляют собой 12-ти серийные сериалы,\n",
    "  средняя продолжительность которых составляет $12 * 24 / 60 = 4.8$ часа.\n",
    "- Следовательно человек, просмотревший $75$ аниме, потратил на это $360$ часов...\n",
    "\n",
    "$360$ часов можно интерпретировать примерно как год работы кинокритика, т.к\n",
    "кроме самого просмотра, человек ещё тратит какое-то время на осмысление сюжета,\n",
    "понимание мотивов героев. Если он конечно смотрит их не залпом по несколько\n",
    "аниме в день из-за кошкодевочек и им подобным)"
   ]
  },
  {
   "cell_type": "code",
   "execution_count": 9,
   "metadata": {},
   "outputs": [
    {
     "name": "stdout",
     "output_type": "stream",
     "text": [
      "<class 'pandas.core.series.Series'>\n",
      "user_id\n",
      "20807    5256\n",
      "11100    4469\n",
      "22022    4149\n",
      "16869    2641\n",
      "10255    2531\n",
      "         ... \n",
      "3535        1\n",
      "9460        1\n",
      "29776       1\n",
      "22912       1\n",
      "31310       1\n",
      "Name: count, Length: 29569, dtype: int64\n"
     ]
    }
   ],
   "source": [
    "print(f'{type(count_of_users)}\\n{count_of_users}')"
   ]
  },
  {
   "cell_type": "code",
   "execution_count": 10,
   "metadata": {},
   "outputs": [
    {
     "data": {
      "text/plain": [
       "13688"
      ]
     },
     "execution_count": 10,
     "metadata": {},
     "output_type": "execute_result"
    }
   ],
   "source": [
    "anime_feature = anime_feature[anime_feature['user_id'].isin(count_of_users[count_of_users >= 75].index)]\n",
    "anime_feature.user_id.nunique()"
   ]
  },
  {
   "attachments": {},
   "cell_type": "markdown",
   "metadata": {},
   "source": [
    "создадим теперь таблицу, в которой строками будут названия аниме, а столбцами id пользователей. Значениями будут оценки"
   ]
  },
  {
   "cell_type": "code",
   "execution_count": 11,
   "metadata": {},
   "outputs": [
    {
     "data": {
      "text/html": [
       "<div>\n",
       "<style scoped>\n",
       "    .dataframe tbody tr th:only-of-type {\n",
       "        vertical-align: middle;\n",
       "    }\n",
       "\n",
       "    .dataframe tbody tr th {\n",
       "        vertical-align: top;\n",
       "    }\n",
       "\n",
       "    .dataframe thead th {\n",
       "        text-align: right;\n",
       "    }\n",
       "</style>\n",
       "<table border=\"1\" class=\"dataframe\">\n",
       "  <thead>\n",
       "    <tr style=\"text-align: right;\">\n",
       "      <th>user_id</th>\n",
       "      <th>2</th>\n",
       "      <th>3</th>\n",
       "      <th>6</th>\n",
       "      <th>11</th>\n",
       "      <th>12</th>\n",
       "      <th>16</th>\n",
       "      <th>17</th>\n",
       "      <th>19</th>\n",
       "      <th>21</th>\n",
       "      <th>25</th>\n",
       "      <th>...</th>\n",
       "      <th>32575</th>\n",
       "      <th>32578</th>\n",
       "      <th>32582</th>\n",
       "      <th>32586</th>\n",
       "      <th>32587</th>\n",
       "      <th>32589</th>\n",
       "      <th>32591</th>\n",
       "      <th>32593</th>\n",
       "      <th>32595</th>\n",
       "      <th>32600</th>\n",
       "    </tr>\n",
       "    <tr>\n",
       "      <th>Name</th>\n",
       "      <th></th>\n",
       "      <th></th>\n",
       "      <th></th>\n",
       "      <th></th>\n",
       "      <th></th>\n",
       "      <th></th>\n",
       "      <th></th>\n",
       "      <th></th>\n",
       "      <th></th>\n",
       "      <th></th>\n",
       "      <th></th>\n",
       "      <th></th>\n",
       "      <th></th>\n",
       "      <th></th>\n",
       "      <th></th>\n",
       "      <th></th>\n",
       "      <th></th>\n",
       "      <th></th>\n",
       "      <th></th>\n",
       "      <th></th>\n",
       "      <th></th>\n",
       "    </tr>\n",
       "  </thead>\n",
       "  <tbody>\n",
       "    <tr>\n",
       "      <th>\"0\"</th>\n",
       "      <td>0.0</td>\n",
       "      <td>0.0</td>\n",
       "      <td>0.0</td>\n",
       "      <td>0.0</td>\n",
       "      <td>0.0</td>\n",
       "      <td>0.0</td>\n",
       "      <td>0.0</td>\n",
       "      <td>0.0</td>\n",
       "      <td>0.0</td>\n",
       "      <td>0.0</td>\n",
       "      <td>...</td>\n",
       "      <td>0.0</td>\n",
       "      <td>0.0</td>\n",
       "      <td>0.0</td>\n",
       "      <td>0.0</td>\n",
       "      <td>0.0</td>\n",
       "      <td>0.0</td>\n",
       "      <td>0.0</td>\n",
       "      <td>0.0</td>\n",
       "      <td>0.0</td>\n",
       "      <td>0.0</td>\n",
       "    </tr>\n",
       "    <tr>\n",
       "      <th>\"Aesop\" no Ohanashi yori: Ushi to Kaeru, Yokubatta Inu</th>\n",
       "      <td>0.0</td>\n",
       "      <td>0.0</td>\n",
       "      <td>0.0</td>\n",
       "      <td>0.0</td>\n",
       "      <td>0.0</td>\n",
       "      <td>0.0</td>\n",
       "      <td>0.0</td>\n",
       "      <td>0.0</td>\n",
       "      <td>0.0</td>\n",
       "      <td>0.0</td>\n",
       "      <td>...</td>\n",
       "      <td>0.0</td>\n",
       "      <td>0.0</td>\n",
       "      <td>0.0</td>\n",
       "      <td>0.0</td>\n",
       "      <td>0.0</td>\n",
       "      <td>0.0</td>\n",
       "      <td>0.0</td>\n",
       "      <td>0.0</td>\n",
       "      <td>0.0</td>\n",
       "      <td>0.0</td>\n",
       "    </tr>\n",
       "    <tr>\n",
       "      <th>\"Bungaku Shoujo\" Kyou no Oyatsu: Hatsukoi</th>\n",
       "      <td>0.0</td>\n",
       "      <td>0.0</td>\n",
       "      <td>0.0</td>\n",
       "      <td>0.0</td>\n",
       "      <td>0.0</td>\n",
       "      <td>0.0</td>\n",
       "      <td>0.0</td>\n",
       "      <td>0.0</td>\n",
       "      <td>0.0</td>\n",
       "      <td>0.0</td>\n",
       "      <td>...</td>\n",
       "      <td>0.0</td>\n",
       "      <td>0.0</td>\n",
       "      <td>0.0</td>\n",
       "      <td>0.0</td>\n",
       "      <td>0.0</td>\n",
       "      <td>0.0</td>\n",
       "      <td>0.0</td>\n",
       "      <td>0.0</td>\n",
       "      <td>0.0</td>\n",
       "      <td>0.0</td>\n",
       "    </tr>\n",
       "    <tr>\n",
       "      <th>\"Bungaku Shoujo\" Memoire</th>\n",
       "      <td>0.0</td>\n",
       "      <td>0.0</td>\n",
       "      <td>0.0</td>\n",
       "      <td>0.0</td>\n",
       "      <td>0.0</td>\n",
       "      <td>0.0</td>\n",
       "      <td>0.0</td>\n",
       "      <td>0.0</td>\n",
       "      <td>0.0</td>\n",
       "      <td>0.0</td>\n",
       "      <td>...</td>\n",
       "      <td>0.0</td>\n",
       "      <td>0.0</td>\n",
       "      <td>0.0</td>\n",
       "      <td>0.0</td>\n",
       "      <td>0.0</td>\n",
       "      <td>0.0</td>\n",
       "      <td>0.0</td>\n",
       "      <td>0.0</td>\n",
       "      <td>0.0</td>\n",
       "      <td>0.0</td>\n",
       "    </tr>\n",
       "    <tr>\n",
       "      <th>\"Bungaku Shoujo\" Movie</th>\n",
       "      <td>0.0</td>\n",
       "      <td>0.0</td>\n",
       "      <td>0.0</td>\n",
       "      <td>0.0</td>\n",
       "      <td>0.0</td>\n",
       "      <td>0.0</td>\n",
       "      <td>0.0</td>\n",
       "      <td>0.0</td>\n",
       "      <td>0.0</td>\n",
       "      <td>0.0</td>\n",
       "      <td>...</td>\n",
       "      <td>0.0</td>\n",
       "      <td>0.0</td>\n",
       "      <td>0.0</td>\n",
       "      <td>0.0</td>\n",
       "      <td>0.0</td>\n",
       "      <td>0.0</td>\n",
       "      <td>0.0</td>\n",
       "      <td>0.0</td>\n",
       "      <td>0.0</td>\n",
       "      <td>0.0</td>\n",
       "    </tr>\n",
       "  </tbody>\n",
       "</table>\n",
       "<p>5 rows × 13688 columns</p>\n",
       "</div>"
      ],
      "text/plain": [
       "user_id                                             2      3      6       \n",
       "Name                                                                      \n",
       "\"0\"                                                   0.0    0.0    0.0  \\\n",
       "\"Aesop\" no Ohanashi yori: Ushi to Kaeru, Yokuba...    0.0    0.0    0.0   \n",
       "\"Bungaku Shoujo\" Kyou no Oyatsu: Hatsukoi             0.0    0.0    0.0   \n",
       "\"Bungaku Shoujo\" Memoire                              0.0    0.0    0.0   \n",
       "\"Bungaku Shoujo\" Movie                                0.0    0.0    0.0   \n",
       "\n",
       "user_id                                             11     12     16      \n",
       "Name                                                                      \n",
       "\"0\"                                                   0.0    0.0    0.0  \\\n",
       "\"Aesop\" no Ohanashi yori: Ushi to Kaeru, Yokuba...    0.0    0.0    0.0   \n",
       "\"Bungaku Shoujo\" Kyou no Oyatsu: Hatsukoi             0.0    0.0    0.0   \n",
       "\"Bungaku Shoujo\" Memoire                              0.0    0.0    0.0   \n",
       "\"Bungaku Shoujo\" Movie                                0.0    0.0    0.0   \n",
       "\n",
       "user_id                                             17     19     21      \n",
       "Name                                                                      \n",
       "\"0\"                                                   0.0    0.0    0.0  \\\n",
       "\"Aesop\" no Ohanashi yori: Ushi to Kaeru, Yokuba...    0.0    0.0    0.0   \n",
       "\"Bungaku Shoujo\" Kyou no Oyatsu: Hatsukoi             0.0    0.0    0.0   \n",
       "\"Bungaku Shoujo\" Memoire                              0.0    0.0    0.0   \n",
       "\"Bungaku Shoujo\" Movie                                0.0    0.0    0.0   \n",
       "\n",
       "user_id                                             25     ...  32575  32578   \n",
       "Name                                                       ...                 \n",
       "\"0\"                                                   0.0  ...    0.0    0.0  \\\n",
       "\"Aesop\" no Ohanashi yori: Ushi to Kaeru, Yokuba...    0.0  ...    0.0    0.0   \n",
       "\"Bungaku Shoujo\" Kyou no Oyatsu: Hatsukoi             0.0  ...    0.0    0.0   \n",
       "\"Bungaku Shoujo\" Memoire                              0.0  ...    0.0    0.0   \n",
       "\"Bungaku Shoujo\" Movie                                0.0  ...    0.0    0.0   \n",
       "\n",
       "user_id                                             32582  32586  32587   \n",
       "Name                                                                      \n",
       "\"0\"                                                   0.0    0.0    0.0  \\\n",
       "\"Aesop\" no Ohanashi yori: Ushi to Kaeru, Yokuba...    0.0    0.0    0.0   \n",
       "\"Bungaku Shoujo\" Kyou no Oyatsu: Hatsukoi             0.0    0.0    0.0   \n",
       "\"Bungaku Shoujo\" Memoire                              0.0    0.0    0.0   \n",
       "\"Bungaku Shoujo\" Movie                                0.0    0.0    0.0   \n",
       "\n",
       "user_id                                             32589  32591  32593   \n",
       "Name                                                                      \n",
       "\"0\"                                                   0.0    0.0    0.0  \\\n",
       "\"Aesop\" no Ohanashi yori: Ushi to Kaeru, Yokuba...    0.0    0.0    0.0   \n",
       "\"Bungaku Shoujo\" Kyou no Oyatsu: Hatsukoi             0.0    0.0    0.0   \n",
       "\"Bungaku Shoujo\" Memoire                              0.0    0.0    0.0   \n",
       "\"Bungaku Shoujo\" Movie                                0.0    0.0    0.0   \n",
       "\n",
       "user_id                                             32595  32600  \n",
       "Name                                                              \n",
       "\"0\"                                                   0.0    0.0  \n",
       "\"Aesop\" no Ohanashi yori: Ushi to Kaeru, Yokuba...    0.0    0.0  \n",
       "\"Bungaku Shoujo\" Kyou no Oyatsu: Hatsukoi             0.0    0.0  \n",
       "\"Bungaku Shoujo\" Memoire                              0.0    0.0  \n",
       "\"Bungaku Shoujo\" Movie                                0.0    0.0  \n",
       "\n",
       "[5 rows x 13688 columns]"
      ]
     },
     "execution_count": 11,
     "metadata": {},
     "output_type": "execute_result"
    }
   ],
   "source": [
    "anime_pivot = anime_feature.pivot_table(index='Name', columns='user_id',\n",
    "                                        values='user_score').fillna(0)\n",
    "anime_pivot.head()"
   ]
  },
  {
   "attachments": {},
   "cell_type": "markdown",
   "metadata": {},
   "source": [
    "также сохраним его для дальнейшей работы, предварительно преобразовав в csr_matrix для удобства разворачивания в дальнейшем"
   ]
  },
  {
   "cell_type": "code",
   "execution_count": 12,
   "metadata": {},
   "outputs": [],
   "source": [
    "cf_matrix = csr_matrix(anime_pivot.values)\n",
    "save_npz(ANIME_DIR + 'cf_matrix.npz', cf_matrix)"
   ]
  },
  {
   "attachments": {},
   "cell_type": "markdown",
   "metadata": {},
   "source": [
    "## Коллаборативная фильтрация"
   ]
  },
  {
   "cell_type": "code",
   "execution_count": 5,
   "metadata": {},
   "outputs": [],
   "source": [
    "# cf_matrix = load_npz(ANIME_DIR + 'cf_matrix.npz')\n",
    "anime_pivot = pd.read_csv(ANIME_DIR + 'anime_cf.csv')"
   ]
  },
  {
   "cell_type": "code",
   "execution_count": 6,
   "metadata": {},
   "outputs": [
    {
     "data": {
      "text/html": [
       "<div>\n",
       "<style scoped>\n",
       "    .dataframe tbody tr th:only-of-type {\n",
       "        vertical-align: middle;\n",
       "    }\n",
       "\n",
       "    .dataframe tbody tr th {\n",
       "        vertical-align: top;\n",
       "    }\n",
       "\n",
       "    .dataframe thead th {\n",
       "        text-align: right;\n",
       "    }\n",
       "</style>\n",
       "<table border=\"1\" class=\"dataframe\">\n",
       "  <thead>\n",
       "    <tr style=\"text-align: right;\">\n",
       "      <th></th>\n",
       "      <th>2</th>\n",
       "      <th>3</th>\n",
       "      <th>6</th>\n",
       "      <th>11</th>\n",
       "      <th>12</th>\n",
       "      <th>16</th>\n",
       "      <th>17</th>\n",
       "      <th>19</th>\n",
       "      <th>21</th>\n",
       "      <th>25</th>\n",
       "      <th>...</th>\n",
       "      <th>32575</th>\n",
       "      <th>32578</th>\n",
       "      <th>32582</th>\n",
       "      <th>32586</th>\n",
       "      <th>32587</th>\n",
       "      <th>32589</th>\n",
       "      <th>32591</th>\n",
       "      <th>32593</th>\n",
       "      <th>32595</th>\n",
       "      <th>32600</th>\n",
       "    </tr>\n",
       "    <tr>\n",
       "      <th>Name</th>\n",
       "      <th></th>\n",
       "      <th></th>\n",
       "      <th></th>\n",
       "      <th></th>\n",
       "      <th></th>\n",
       "      <th></th>\n",
       "      <th></th>\n",
       "      <th></th>\n",
       "      <th></th>\n",
       "      <th></th>\n",
       "      <th></th>\n",
       "      <th></th>\n",
       "      <th></th>\n",
       "      <th></th>\n",
       "      <th></th>\n",
       "      <th></th>\n",
       "      <th></th>\n",
       "      <th></th>\n",
       "      <th></th>\n",
       "      <th></th>\n",
       "      <th></th>\n",
       "    </tr>\n",
       "  </thead>\n",
       "  <tbody>\n",
       "    <tr>\n",
       "      <th>\"0\"</th>\n",
       "      <td>0.0</td>\n",
       "      <td>0.0</td>\n",
       "      <td>0.0</td>\n",
       "      <td>0.0</td>\n",
       "      <td>0.0</td>\n",
       "      <td>0.0</td>\n",
       "      <td>0.0</td>\n",
       "      <td>0.0</td>\n",
       "      <td>0.0</td>\n",
       "      <td>0.0</td>\n",
       "      <td>...</td>\n",
       "      <td>0.0</td>\n",
       "      <td>0.0</td>\n",
       "      <td>0.0</td>\n",
       "      <td>0.0</td>\n",
       "      <td>0.0</td>\n",
       "      <td>0.0</td>\n",
       "      <td>0.0</td>\n",
       "      <td>0.0</td>\n",
       "      <td>0.0</td>\n",
       "      <td>0.0</td>\n",
       "    </tr>\n",
       "    <tr>\n",
       "      <th>\"Aesop\" no Ohanashi yori: Ushi to Kaeru, Yokubatta Inu</th>\n",
       "      <td>0.0</td>\n",
       "      <td>0.0</td>\n",
       "      <td>0.0</td>\n",
       "      <td>0.0</td>\n",
       "      <td>0.0</td>\n",
       "      <td>0.0</td>\n",
       "      <td>0.0</td>\n",
       "      <td>0.0</td>\n",
       "      <td>0.0</td>\n",
       "      <td>0.0</td>\n",
       "      <td>...</td>\n",
       "      <td>0.0</td>\n",
       "      <td>0.0</td>\n",
       "      <td>0.0</td>\n",
       "      <td>0.0</td>\n",
       "      <td>0.0</td>\n",
       "      <td>0.0</td>\n",
       "      <td>0.0</td>\n",
       "      <td>0.0</td>\n",
       "      <td>0.0</td>\n",
       "      <td>0.0</td>\n",
       "    </tr>\n",
       "    <tr>\n",
       "      <th>\"Bungaku Shoujo\" Kyou no Oyatsu: Hatsukoi</th>\n",
       "      <td>0.0</td>\n",
       "      <td>0.0</td>\n",
       "      <td>0.0</td>\n",
       "      <td>0.0</td>\n",
       "      <td>0.0</td>\n",
       "      <td>0.0</td>\n",
       "      <td>0.0</td>\n",
       "      <td>0.0</td>\n",
       "      <td>0.0</td>\n",
       "      <td>0.0</td>\n",
       "      <td>...</td>\n",
       "      <td>0.0</td>\n",
       "      <td>0.0</td>\n",
       "      <td>0.0</td>\n",
       "      <td>0.0</td>\n",
       "      <td>0.0</td>\n",
       "      <td>0.0</td>\n",
       "      <td>0.0</td>\n",
       "      <td>0.0</td>\n",
       "      <td>0.0</td>\n",
       "      <td>0.0</td>\n",
       "    </tr>\n",
       "    <tr>\n",
       "      <th>\"Bungaku Shoujo\" Memoire</th>\n",
       "      <td>0.0</td>\n",
       "      <td>0.0</td>\n",
       "      <td>0.0</td>\n",
       "      <td>0.0</td>\n",
       "      <td>0.0</td>\n",
       "      <td>0.0</td>\n",
       "      <td>0.0</td>\n",
       "      <td>0.0</td>\n",
       "      <td>0.0</td>\n",
       "      <td>0.0</td>\n",
       "      <td>...</td>\n",
       "      <td>0.0</td>\n",
       "      <td>0.0</td>\n",
       "      <td>0.0</td>\n",
       "      <td>0.0</td>\n",
       "      <td>0.0</td>\n",
       "      <td>0.0</td>\n",
       "      <td>0.0</td>\n",
       "      <td>0.0</td>\n",
       "      <td>0.0</td>\n",
       "      <td>0.0</td>\n",
       "    </tr>\n",
       "    <tr>\n",
       "      <th>\"Bungaku Shoujo\" Movie</th>\n",
       "      <td>0.0</td>\n",
       "      <td>0.0</td>\n",
       "      <td>0.0</td>\n",
       "      <td>0.0</td>\n",
       "      <td>0.0</td>\n",
       "      <td>0.0</td>\n",
       "      <td>0.0</td>\n",
       "      <td>0.0</td>\n",
       "      <td>0.0</td>\n",
       "      <td>0.0</td>\n",
       "      <td>...</td>\n",
       "      <td>0.0</td>\n",
       "      <td>0.0</td>\n",
       "      <td>0.0</td>\n",
       "      <td>0.0</td>\n",
       "      <td>0.0</td>\n",
       "      <td>0.0</td>\n",
       "      <td>0.0</td>\n",
       "      <td>0.0</td>\n",
       "      <td>0.0</td>\n",
       "      <td>0.0</td>\n",
       "    </tr>\n",
       "  </tbody>\n",
       "</table>\n",
       "<p>5 rows × 13688 columns</p>\n",
       "</div>"
      ],
      "text/plain": [
       "                                                      2    3    6   11   12   \n",
       "Name                                                                          \n",
       "\"0\"                                                 0.0  0.0  0.0  0.0  0.0  \\\n",
       "\"Aesop\" no Ohanashi yori: Ushi to Kaeru, Yokuba...  0.0  0.0  0.0  0.0  0.0   \n",
       "\"Bungaku Shoujo\" Kyou no Oyatsu: Hatsukoi           0.0  0.0  0.0  0.0  0.0   \n",
       "\"Bungaku Shoujo\" Memoire                            0.0  0.0  0.0  0.0  0.0   \n",
       "\"Bungaku Shoujo\" Movie                              0.0  0.0  0.0  0.0  0.0   \n",
       "\n",
       "                                                     16   17   19   21   25   \n",
       "Name                                                                          \n",
       "\"0\"                                                 0.0  0.0  0.0  0.0  0.0  \\\n",
       "\"Aesop\" no Ohanashi yori: Ushi to Kaeru, Yokuba...  0.0  0.0  0.0  0.0  0.0   \n",
       "\"Bungaku Shoujo\" Kyou no Oyatsu: Hatsukoi           0.0  0.0  0.0  0.0  0.0   \n",
       "\"Bungaku Shoujo\" Memoire                            0.0  0.0  0.0  0.0  0.0   \n",
       "\"Bungaku Shoujo\" Movie                              0.0  0.0  0.0  0.0  0.0   \n",
       "\n",
       "                                                    ...  32575  32578  32582   \n",
       "Name                                                ...                        \n",
       "\"0\"                                                 ...    0.0    0.0    0.0  \\\n",
       "\"Aesop\" no Ohanashi yori: Ushi to Kaeru, Yokuba...  ...    0.0    0.0    0.0   \n",
       "\"Bungaku Shoujo\" Kyou no Oyatsu: Hatsukoi           ...    0.0    0.0    0.0   \n",
       "\"Bungaku Shoujo\" Memoire                            ...    0.0    0.0    0.0   \n",
       "\"Bungaku Shoujo\" Movie                              ...    0.0    0.0    0.0   \n",
       "\n",
       "                                                    32586  32587  32589   \n",
       "Name                                                                      \n",
       "\"0\"                                                   0.0    0.0    0.0  \\\n",
       "\"Aesop\" no Ohanashi yori: Ushi to Kaeru, Yokuba...    0.0    0.0    0.0   \n",
       "\"Bungaku Shoujo\" Kyou no Oyatsu: Hatsukoi             0.0    0.0    0.0   \n",
       "\"Bungaku Shoujo\" Memoire                              0.0    0.0    0.0   \n",
       "\"Bungaku Shoujo\" Movie                                0.0    0.0    0.0   \n",
       "\n",
       "                                                    32591  32593  32595  32600  \n",
       "Name                                                                            \n",
       "\"0\"                                                   0.0    0.0    0.0    0.0  \n",
       "\"Aesop\" no Ohanashi yori: Ushi to Kaeru, Yokuba...    0.0    0.0    0.0    0.0  \n",
       "\"Bungaku Shoujo\" Kyou no Oyatsu: Hatsukoi             0.0    0.0    0.0    0.0  \n",
       "\"Bungaku Shoujo\" Memoire                              0.0    0.0    0.0    0.0  \n",
       "\"Bungaku Shoujo\" Movie                                0.0    0.0    0.0    0.0  \n",
       "\n",
       "[5 rows x 13688 columns]"
      ]
     },
     "execution_count": 6,
     "metadata": {},
     "output_type": "execute_result"
    }
   ],
   "source": [
    "anime_pivot.set_index('Name', inplace= True)\n",
    "anime_pivot.head()"
   ]
  },
  {
   "cell_type": "code",
   "execution_count": 7,
   "metadata": {},
   "outputs": [
    {
     "name": "stdout",
     "output_type": "stream",
     "text": [
      "<class 'pandas.core.frame.DataFrame'>\n",
      "Index: 16724 entries, \"0\" to ◯\n",
      "Columns: 13688 entries, 2 to 32600\n",
      "dtypes: float64(13688)\n",
      "memory usage: 1.7+ GB\n"
     ]
    }
   ],
   "source": [
    "anime_pivot.info()"
   ]
  },
  {
   "cell_type": "code",
   "execution_count": 8,
   "metadata": {},
   "outputs": [
    {
     "name": "stdout",
     "output_type": "stream",
     "text": [
      "<class 'pandas.core.frame.DataFrame'>\n",
      "Index: 16724 entries, \"0\" to ◯\n",
      "Columns: 4000 entries, 9111 to 25798\n",
      "dtypes: float64(4000)\n",
      "memory usage: 510.5+ MB\n"
     ]
    }
   ],
   "source": [
    "copy_pivot = anime_pivot[random.sample(anime_pivot.columns.to_list(), 4000)]\n",
    "copy_pivot.info()"
   ]
  },
  {
   "cell_type": "code",
   "execution_count": 9,
   "metadata": {},
   "outputs": [],
   "source": [
    "cf_matrix = csr_matrix(copy_pivot.values)"
   ]
  },
  {
   "cell_type": "code",
   "execution_count": 10,
   "metadata": {},
   "outputs": [
    {
     "data": {
      "text/html": [
       "<style>#sk-container-id-1 {color: black;background-color: white;}#sk-container-id-1 pre{padding: 0;}#sk-container-id-1 div.sk-toggleable {background-color: white;}#sk-container-id-1 label.sk-toggleable__label {cursor: pointer;display: block;width: 100%;margin-bottom: 0;padding: 0.3em;box-sizing: border-box;text-align: center;}#sk-container-id-1 label.sk-toggleable__label-arrow:before {content: \"▸\";float: left;margin-right: 0.25em;color: #696969;}#sk-container-id-1 label.sk-toggleable__label-arrow:hover:before {color: black;}#sk-container-id-1 div.sk-estimator:hover label.sk-toggleable__label-arrow:before {color: black;}#sk-container-id-1 div.sk-toggleable__content {max-height: 0;max-width: 0;overflow: hidden;text-align: left;background-color: #f0f8ff;}#sk-container-id-1 div.sk-toggleable__content pre {margin: 0.2em;color: black;border-radius: 0.25em;background-color: #f0f8ff;}#sk-container-id-1 input.sk-toggleable__control:checked~div.sk-toggleable__content {max-height: 200px;max-width: 100%;overflow: auto;}#sk-container-id-1 input.sk-toggleable__control:checked~label.sk-toggleable__label-arrow:before {content: \"▾\";}#sk-container-id-1 div.sk-estimator input.sk-toggleable__control:checked~label.sk-toggleable__label {background-color: #d4ebff;}#sk-container-id-1 div.sk-label input.sk-toggleable__control:checked~label.sk-toggleable__label {background-color: #d4ebff;}#sk-container-id-1 input.sk-hidden--visually {border: 0;clip: rect(1px 1px 1px 1px);clip: rect(1px, 1px, 1px, 1px);height: 1px;margin: -1px;overflow: hidden;padding: 0;position: absolute;width: 1px;}#sk-container-id-1 div.sk-estimator {font-family: monospace;background-color: #f0f8ff;border: 1px dotted black;border-radius: 0.25em;box-sizing: border-box;margin-bottom: 0.5em;}#sk-container-id-1 div.sk-estimator:hover {background-color: #d4ebff;}#sk-container-id-1 div.sk-parallel-item::after {content: \"\";width: 100%;border-bottom: 1px solid gray;flex-grow: 1;}#sk-container-id-1 div.sk-label:hover label.sk-toggleable__label {background-color: #d4ebff;}#sk-container-id-1 div.sk-serial::before {content: \"\";position: absolute;border-left: 1px solid gray;box-sizing: border-box;top: 0;bottom: 0;left: 50%;z-index: 0;}#sk-container-id-1 div.sk-serial {display: flex;flex-direction: column;align-items: center;background-color: white;padding-right: 0.2em;padding-left: 0.2em;position: relative;}#sk-container-id-1 div.sk-item {position: relative;z-index: 1;}#sk-container-id-1 div.sk-parallel {display: flex;align-items: stretch;justify-content: center;background-color: white;position: relative;}#sk-container-id-1 div.sk-item::before, #sk-container-id-1 div.sk-parallel-item::before {content: \"\";position: absolute;border-left: 1px solid gray;box-sizing: border-box;top: 0;bottom: 0;left: 50%;z-index: -1;}#sk-container-id-1 div.sk-parallel-item {display: flex;flex-direction: column;z-index: 1;position: relative;background-color: white;}#sk-container-id-1 div.sk-parallel-item:first-child::after {align-self: flex-end;width: 50%;}#sk-container-id-1 div.sk-parallel-item:last-child::after {align-self: flex-start;width: 50%;}#sk-container-id-1 div.sk-parallel-item:only-child::after {width: 0;}#sk-container-id-1 div.sk-dashed-wrapped {border: 1px dashed gray;margin: 0 0.4em 0.5em 0.4em;box-sizing: border-box;padding-bottom: 0.4em;background-color: white;}#sk-container-id-1 div.sk-label label {font-family: monospace;font-weight: bold;display: inline-block;line-height: 1.2em;}#sk-container-id-1 div.sk-label-container {text-align: center;}#sk-container-id-1 div.sk-container {/* jupyter's `normalize.less` sets `[hidden] { display: none; }` but bootstrap.min.css set `[hidden] { display: none !important; }` so we also need the `!important` here to be able to override the default hidden behavior on the sphinx rendered scikit-learn.org. See: https://github.com/scikit-learn/scikit-learn/issues/21755 */display: inline-block !important;position: relative;}#sk-container-id-1 div.sk-text-repr-fallback {display: none;}</style><div id=\"sk-container-id-1\" class=\"sk-top-container\"><div class=\"sk-text-repr-fallback\"><pre>NearestNeighbors(algorithm=&#x27;brute&#x27;, metric=&#x27;cosine&#x27;)</pre><b>In a Jupyter environment, please rerun this cell to show the HTML representation or trust the notebook. <br />On GitHub, the HTML representation is unable to render, please try loading this page with nbviewer.org.</b></div><div class=\"sk-container\" hidden><div class=\"sk-item\"><div class=\"sk-estimator sk-toggleable\"><input class=\"sk-toggleable__control sk-hidden--visually\" id=\"sk-estimator-id-1\" type=\"checkbox\" checked><label for=\"sk-estimator-id-1\" class=\"sk-toggleable__label sk-toggleable__label-arrow\">NearestNeighbors</label><div class=\"sk-toggleable__content\"><pre>NearestNeighbors(algorithm=&#x27;brute&#x27;, metric=&#x27;cosine&#x27;)</pre></div></div></div></div></div>"
      ],
      "text/plain": [
       "NearestNeighbors(algorithm='brute', metric='cosine')"
      ]
     },
     "execution_count": 10,
     "metadata": {},
     "output_type": "execute_result"
    }
   ],
   "source": [
    "knn_model = NearestNeighbors(metric='cosine', algorithm='brute')\n",
    "knn_model.fit(cf_matrix)"
   ]
  },
  {
   "cell_type": "code",
   "execution_count": 60,
   "metadata": {},
   "outputs": [],
   "source": [
    "anime_titles = copy_pivot.index"
   ]
  },
  {
   "cell_type": "code",
   "execution_count": 71,
   "metadata": {},
   "outputs": [
    {
     "name": "stdout",
     "output_type": "stream",
     "text": [
      "Randomly selected anime title: Endro~! \n",
      "\n"
     ]
    }
   ],
   "source": [
    "anime_title = np.random.choice(anime_titles)\n",
    "query_index = copy_pivot.index.get_loc(anime_title)\n",
    "print(f\"Randomly selected anime title: {anime_title} \\n\")"
   ]
  },
  {
   "cell_type": "code",
   "execution_count": 72,
   "metadata": {},
   "outputs": [],
   "source": [
    "distances, index = knn_model.kneighbors(copy_pivot.iloc[query_index, :].values.reshape(1, -1), n_neighbors=10)"
   ]
  },
  {
   "cell_type": "code",
   "execution_count": 74,
   "metadata": {},
   "outputs": [
    {
     "name": "stdout",
     "output_type": "stream",
     "text": [
      "Recommendations for Endro~!:\n",
      "\n"
     ]
    }
   ],
   "source": [
    "print(f\"Recommendations for {anime_pivot.index[query_index]}:\\n\")"
   ]
  },
  {
   "cell_type": "code",
   "execution_count": 75,
   "metadata": {},
   "outputs": [
    {
     "name": "stdout",
     "output_type": "stream",
     "text": [
      "<class 'numpy.ndarray'> [0.         0.73833499 0.75492671 0.76158418 0.76158418 0.78062585\n",
      " 0.7867544  0.78807482 0.78807482 0.78807482]\n"
     ]
    }
   ],
   "source": [
    "print(type(distances), distances.flatten())"
   ]
  },
  {
   "cell_type": "code",
   "execution_count": 76,
   "metadata": {},
   "outputs": [
    {
     "name": "stdout",
     "output_type": "stream",
     "text": [
      "[ 3532  9333 15127 13318  2546  7110  8209  1812 14961  4004]\n"
     ]
    }
   ],
   "source": [
    "print(index.flatten())"
   ]
  },
  {
   "cell_type": "code",
   "execution_count": 77,
   "metadata": {},
   "outputs": [
    {
     "name": "stdout",
     "output_type": "stream",
     "text": [
      "1: Endro~!, with distance  0.0\n",
      "2: Mini Toji, with distance 0.738\n",
      "3: Tsukumogami Kashimasu, with distance 0.755\n",
      "4: Shu, with distance 0.762\n",
      "5: Crystal Clear, with distance 0.762\n",
      "6: Kemono Friends 2, with distance 0.781\n",
      "7: Leo, with distance 0.787\n",
      "8: Can Can Bunny Extra, with distance 0.788\n",
      "9: Tottoko Hamtarou Movie 1: Ham-Ham Land Daibouken, with distance 0.788\n",
      "10: Futon, with distance 0.788\n"
     ]
    }
   ],
   "source": [
    "for i, ind in enumerate(index.flatten()):\n",
    "    print(f'{i + 1}: {copy_pivot.index[ind]}, with distance {distances.flatten()[i]:{4}.{3}}')"
   ]
  },
  {
   "cell_type": "code",
   "execution_count": 142,
   "metadata": {},
   "outputs": [],
   "source": [
    "result = make_recomendations_with_cf(copy_pivot, count_recomendations=20)"
   ]
  },
  {
   "cell_type": "code",
   "execution_count": 161,
   "metadata": {},
   "outputs": [
    {
     "name": "stdout",
     "output_type": "stream",
     "text": [
      " 20 title recomendations for Newsong\n",
      "1: Wu Liuqi Zhi Zui Qiang Fa Xing Shi, with distance 0.565\n",
      "2: Cike Wu Liuqi Fanwai, with distance 0.683\n",
      "3: Strike the Blood III, with distance 0.739\n",
      "4: Nogizaka Haruka no Himitsu: Finale, with distance 0.749\n",
      "5: Ore wo Suki nano wa Omae dake ka yo: Oretachi no Game Set, with distance 0.792\n",
      "6: Seitokai no Ichizon Lv.2: Watasu Seitokai, with distance 0.804\n",
      "7: Shijou Saikyou no Deshi Kenichi OVA, with distance 0.816\n",
      "8: Yuragi-sou no Yuuna-san OVA, with distance 0.832\n",
      "9: Karakai Jouzu no Takagi-san: Water Slide, with distance 0.833\n",
      "10: Macademi Wasshoi!, with distance 0.84\n"
     ]
    }
   ],
   "source": [
    "if result != None:\n",
    "    print(f' {20} title recomendations for {result[0]}')\n",
    "    for i, value in enumerate(result[1]):\n",
    "        print(f'{i + 1}: {value[0]}, with distance {value[1]:{4}.{3}}')"
   ]
  }
 ],
 "metadata": {
  "kernelspec": {
   "display_name": "recommended-network-v0tlW72M-py3.10",
   "language": "python",
   "name": "python3"
  },
  "language_info": {
   "codemirror_mode": {
    "name": "ipython",
    "version": 3
   },
   "file_extension": ".py",
   "mimetype": "text/x-python",
   "name": "python",
   "nbconvert_exporter": "python",
   "pygments_lexer": "ipython3",
   "version": "3.10.11"
  },
  "orig_nbformat": 4
 },
 "nbformat": 4,
 "nbformat_minor": 2
}
