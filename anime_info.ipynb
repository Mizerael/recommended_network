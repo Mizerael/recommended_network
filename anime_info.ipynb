{
 "cells": [
  {
   "cell_type": "code",
   "execution_count": 9,
   "metadata": {},
   "outputs": [],
   "source": [
    "import numpy as np\n",
    "import pandas as pd\n",
    "import seaborn as sns"
   ]
  },
  {
   "cell_type": "code",
   "execution_count": 10,
   "metadata": {},
   "outputs": [],
   "source": [
    "ANIME_DIR = \"anime_data/\""
   ]
  },
  {
   "attachments": {},
   "cell_type": "markdown",
   "metadata": {},
   "source": [
    "### Предобработка данных"
   ]
  },
  {
   "cell_type": "code",
   "execution_count": 11,
   "metadata": {},
   "outputs": [],
   "source": [
    "anime_ratings = pd.read_csv(ANIME_DIR + \"animelist.csv\", nrows=10000000)\n",
    "anime_data = pd.read_csv(ANIME_DIR + \"anime.csv\")"
   ]
  },
  {
   "attachments": {},
   "cell_type": "markdown",
   "metadata": {},
   "source": [
    "Рассиморим, какая информация находится в файле $anime.csv$"
   ]
  },
  {
   "cell_type": "code",
   "execution_count": 12,
   "metadata": {},
   "outputs": [
    {
     "name": "stdout",
     "output_type": "stream",
     "text": [
      "<class 'pandas.core.frame.DataFrame'>\n",
      "RangeIndex: 17562 entries, 0 to 17561\n",
      "Data columns (total 35 columns):\n",
      " #   Column         Non-Null Count  Dtype \n",
      "---  ------         --------------  ----- \n",
      " 0   MAL_ID         17562 non-null  int64 \n",
      " 1   Name           17562 non-null  object\n",
      " 2   Score          17562 non-null  object\n",
      " 3   Genres         17562 non-null  object\n",
      " 4   English name   17562 non-null  object\n",
      " 5   Japanese name  17562 non-null  object\n",
      " 6   Type           17562 non-null  object\n",
      " 7   Episodes       17562 non-null  object\n",
      " 8   Aired          17562 non-null  object\n",
      " 9   Premiered      17562 non-null  object\n",
      " 10  Producers      17562 non-null  object\n",
      " 11  Licensors      17562 non-null  object\n",
      " 12  Studios        17562 non-null  object\n",
      " 13  Source         17562 non-null  object\n",
      " 14  Duration       17562 non-null  object\n",
      " 15  Rating         17562 non-null  object\n",
      " 16  Ranked         17562 non-null  object\n",
      " 17  Popularity     17562 non-null  int64 \n",
      " 18  Members        17562 non-null  int64 \n",
      " 19  Favorites      17562 non-null  int64 \n",
      " 20  Watching       17562 non-null  int64 \n",
      " 21  Completed      17562 non-null  int64 \n",
      " 22  On-Hold        17562 non-null  int64 \n",
      " 23  Dropped        17562 non-null  int64 \n",
      " 24  Plan to Watch  17562 non-null  int64 \n",
      " 25  Score-10       17562 non-null  object\n",
      " 26  Score-9        17562 non-null  object\n",
      " 27  Score-8        17562 non-null  object\n",
      " 28  Score-7        17562 non-null  object\n",
      " 29  Score-6        17562 non-null  object\n",
      " 30  Score-5        17562 non-null  object\n",
      " 31  Score-4        17562 non-null  object\n",
      " 32  Score-3        17562 non-null  object\n",
      " 33  Score-2        17562 non-null  object\n",
      " 34  Score-1        17562 non-null  object\n",
      "dtypes: int64(9), object(26)\n",
      "memory usage: 4.7+ MB\n"
     ]
    }
   ],
   "source": [
    "anime_data.info()"
   ]
  },
  {
   "attachments": {},
   "cell_type": "markdown",
   "metadata": {},
   "source": [
    "Сразу переименуем колонку $MAL\\_ID$ в $anime\\_id$"
   ]
  },
  {
   "cell_type": "code",
   "execution_count": 13,
   "metadata": {},
   "outputs": [],
   "source": [
    "anime_data.rename(columns={'MAL_ID':\"anime_id\"},inplace=True)"
   ]
  },
  {
   "cell_type": "code",
   "execution_count": 14,
   "metadata": {},
   "outputs": [
    {
     "data": {
      "text/plain": [
       "Index(['anime_id', 'Name', 'Score', 'Genres', 'English name', 'Japanese name',\n",
       "       'Type', 'Episodes', 'Aired', 'Premiered', 'Producers', 'Licensors',\n",
       "       'Studios', 'Source', 'Duration', 'Rating', 'Ranked', 'Popularity',\n",
       "       'Members', 'Favorites', 'Watching', 'Completed', 'On-Hold', 'Dropped',\n",
       "       'Plan to Watch', 'Score-10', 'Score-9', 'Score-8', 'Score-7', 'Score-6',\n",
       "       'Score-5', 'Score-4', 'Score-3', 'Score-2', 'Score-1'],\n",
       "      dtype='object')"
      ]
     },
     "execution_count": 14,
     "metadata": {},
     "output_type": "execute_result"
    }
   ],
   "source": [
    "anime_data.columns"
   ]
  },
  {
   "attachments": {},
   "cell_type": "markdown",
   "metadata": {},
   "source": [
    "Избавимся от лишних полей"
   ]
  },
  {
   "cell_type": "code",
   "execution_count": 15,
   "metadata": {},
   "outputs": [
    {
     "data": {
      "text/html": [
       "<div>\n",
       "<style scoped>\n",
       "    .dataframe tbody tr th:only-of-type {\n",
       "        vertical-align: middle;\n",
       "    }\n",
       "\n",
       "    .dataframe tbody tr th {\n",
       "        vertical-align: top;\n",
       "    }\n",
       "\n",
       "    .dataframe thead th {\n",
       "        text-align: right;\n",
       "    }\n",
       "</style>\n",
       "<table border=\"1\" class=\"dataframe\">\n",
       "  <thead>\n",
       "    <tr style=\"text-align: right;\">\n",
       "      <th></th>\n",
       "      <th>anime_id</th>\n",
       "      <th>Name</th>\n",
       "      <th>Score</th>\n",
       "      <th>Genres</th>\n",
       "      <th>Members</th>\n",
       "    </tr>\n",
       "  </thead>\n",
       "  <tbody>\n",
       "    <tr>\n",
       "      <th>0</th>\n",
       "      <td>1</td>\n",
       "      <td>Cowboy Bebop</td>\n",
       "      <td>8.78</td>\n",
       "      <td>Action, Adventure, Comedy, Drama, Sci-Fi, Space</td>\n",
       "      <td>1251960</td>\n",
       "    </tr>\n",
       "    <tr>\n",
       "      <th>1</th>\n",
       "      <td>5</td>\n",
       "      <td>Cowboy Bebop: Tengoku no Tobira</td>\n",
       "      <td>8.39</td>\n",
       "      <td>Action, Drama, Mystery, Sci-Fi, Space</td>\n",
       "      <td>273145</td>\n",
       "    </tr>\n",
       "    <tr>\n",
       "      <th>2</th>\n",
       "      <td>6</td>\n",
       "      <td>Trigun</td>\n",
       "      <td>8.24</td>\n",
       "      <td>Action, Sci-Fi, Adventure, Comedy, Drama, Shounen</td>\n",
       "      <td>558913</td>\n",
       "    </tr>\n",
       "    <tr>\n",
       "      <th>3</th>\n",
       "      <td>7</td>\n",
       "      <td>Witch Hunter Robin</td>\n",
       "      <td>7.27</td>\n",
       "      <td>Action, Mystery, Police, Supernatural, Drama, ...</td>\n",
       "      <td>94683</td>\n",
       "    </tr>\n",
       "    <tr>\n",
       "      <th>4</th>\n",
       "      <td>8</td>\n",
       "      <td>Bouken Ou Beet</td>\n",
       "      <td>6.98</td>\n",
       "      <td>Adventure, Fantasy, Shounen, Supernatural</td>\n",
       "      <td>13224</td>\n",
       "    </tr>\n",
       "    <tr>\n",
       "      <th>...</th>\n",
       "      <td>...</td>\n",
       "      <td>...</td>\n",
       "      <td>...</td>\n",
       "      <td>...</td>\n",
       "      <td>...</td>\n",
       "    </tr>\n",
       "    <tr>\n",
       "      <th>17557</th>\n",
       "      <td>48481</td>\n",
       "      <td>Daomu Biji Zhi Qinling Shen Shu</td>\n",
       "      <td>Unknown</td>\n",
       "      <td>Adventure, Mystery, Supernatural</td>\n",
       "      <td>354</td>\n",
       "    </tr>\n",
       "    <tr>\n",
       "      <th>17558</th>\n",
       "      <td>48483</td>\n",
       "      <td>Mieruko-chan</td>\n",
       "      <td>Unknown</td>\n",
       "      <td>Comedy, Horror, Supernatural</td>\n",
       "      <td>7010</td>\n",
       "    </tr>\n",
       "    <tr>\n",
       "      <th>17559</th>\n",
       "      <td>48488</td>\n",
       "      <td>Higurashi no Naku Koro ni Sotsu</td>\n",
       "      <td>Unknown</td>\n",
       "      <td>Mystery, Dementia, Horror, Psychological, Supe...</td>\n",
       "      <td>11309</td>\n",
       "    </tr>\n",
       "    <tr>\n",
       "      <th>17560</th>\n",
       "      <td>48491</td>\n",
       "      <td>Yama no Susume: Next Summit</td>\n",
       "      <td>Unknown</td>\n",
       "      <td>Adventure, Slice of Life, Comedy</td>\n",
       "      <td>1386</td>\n",
       "    </tr>\n",
       "    <tr>\n",
       "      <th>17561</th>\n",
       "      <td>48492</td>\n",
       "      <td>Scarlet Nexus</td>\n",
       "      <td>Unknown</td>\n",
       "      <td>Action, Fantasy</td>\n",
       "      <td>310</td>\n",
       "    </tr>\n",
       "  </tbody>\n",
       "</table>\n",
       "<p>17562 rows × 5 columns</p>\n",
       "</div>"
      ],
      "text/plain": [
       "       anime_id                             Name    Score   \n",
       "0             1                     Cowboy Bebop     8.78  \\\n",
       "1             5  Cowboy Bebop: Tengoku no Tobira     8.39   \n",
       "2             6                           Trigun     8.24   \n",
       "3             7               Witch Hunter Robin     7.27   \n",
       "4             8                   Bouken Ou Beet     6.98   \n",
       "...         ...                              ...      ...   \n",
       "17557     48481  Daomu Biji Zhi Qinling Shen Shu  Unknown   \n",
       "17558     48483                     Mieruko-chan  Unknown   \n",
       "17559     48488  Higurashi no Naku Koro ni Sotsu  Unknown   \n",
       "17560     48491      Yama no Susume: Next Summit  Unknown   \n",
       "17561     48492                    Scarlet Nexus  Unknown   \n",
       "\n",
       "                                                  Genres  Members  \n",
       "0        Action, Adventure, Comedy, Drama, Sci-Fi, Space  1251960  \n",
       "1                  Action, Drama, Mystery, Sci-Fi, Space   273145  \n",
       "2      Action, Sci-Fi, Adventure, Comedy, Drama, Shounen   558913  \n",
       "3      Action, Mystery, Police, Supernatural, Drama, ...    94683  \n",
       "4              Adventure, Fantasy, Shounen, Supernatural    13224  \n",
       "...                                                  ...      ...  \n",
       "17557                   Adventure, Mystery, Supernatural      354  \n",
       "17558                       Comedy, Horror, Supernatural     7010  \n",
       "17559  Mystery, Dementia, Horror, Psychological, Supe...    11309  \n",
       "17560                   Adventure, Slice of Life, Comedy     1386  \n",
       "17561                                    Action, Fantasy      310  \n",
       "\n",
       "[17562 rows x 5 columns]"
      ]
     },
     "execution_count": 15,
     "metadata": {},
     "output_type": "execute_result"
    }
   ],
   "source": [
    "to_keep = ['anime_id', 'Name', 'Score', 'Genres', 'Members']\n",
    "anime_data = anime_data[to_keep]\n",
    "anime_data"
   ]
  },
  {
   "attachments": {},
   "cell_type": "markdown",
   "metadata": {},
   "source": [
    "Сейчас у нас все жанры описаны в одном поле через запятую, что не очень удобно, поэтому мы определим все жанры и добавим их как поля для каждой записи"
   ]
  },
  {
   "cell_type": "code",
   "execution_count": 16,
   "metadata": {},
   "outputs": [],
   "source": [
    "genres_column = anime_data[\"Genres\"].map(lambda x: x.split(\", \"))\n",
    "genres = list(set(sum(genres_column, [])))\n",
    "anime_data[genres] = 0\n",
    "for i in range(0, len(genres_column)):\n",
    "    anime_data.loc[i, genres_column[i]] = 1"
   ]
  },
  {
   "attachments": {},
   "cell_type": "markdown",
   "metadata": {},
   "source": [
    "Теперь поле $Genres$ становится ненужным"
   ]
  },
  {
   "cell_type": "code",
   "execution_count": 17,
   "metadata": {},
   "outputs": [],
   "source": [
    "anime_data = anime_data.drop(columns=\"Genres\")"
   ]
  },
  {
   "attachments": {},
   "cell_type": "markdown",
   "metadata": {},
   "source": [
    "Заменим Unknown в поле Score 0"
   ]
  },
  {
   "cell_type": "code",
   "execution_count": 18,
   "metadata": {},
   "outputs": [],
   "source": [
    "dict = {'Unknown' : 0}\n",
    "anime_data['Score'] = anime_data['Score'].astype(str).apply(lambda x : dict[x] if x == 'Unknown' else x).astype(float)"
   ]
  },
  {
   "cell_type": "code",
   "execution_count": 19,
   "metadata": {},
   "outputs": [
    {
     "name": "stdout",
     "output_type": "stream",
     "text": [
      "<class 'pandas.core.frame.DataFrame'>\n",
      "RangeIndex: 17562 entries, 0 to 17561\n",
      "Data columns (total 48 columns):\n",
      " #   Column         Non-Null Count  Dtype  \n",
      "---  ------         --------------  -----  \n",
      " 0   anime_id       17562 non-null  int64  \n",
      " 1   Name           17562 non-null  object \n",
      " 2   Score          17562 non-null  float64\n",
      " 3   Members        17562 non-null  int64  \n",
      " 4   Kids           17562 non-null  int64  \n",
      " 5   Super Power    17562 non-null  int64  \n",
      " 6   Action         17562 non-null  int64  \n",
      " 7   Sci-Fi         17562 non-null  int64  \n",
      " 8   Shounen Ai     17562 non-null  int64  \n",
      " 9   Ecchi          17562 non-null  int64  \n",
      " 10  Cars           17562 non-null  int64  \n",
      " 11  Yuri           17562 non-null  int64  \n",
      " 12  Mecha          17562 non-null  int64  \n",
      " 13  Space          17562 non-null  int64  \n",
      " 14  Parody         17562 non-null  int64  \n",
      " 15  Josei          17562 non-null  int64  \n",
      " 16  Vampire        17562 non-null  int64  \n",
      " 17  Adventure      17562 non-null  int64  \n",
      " 18  Mystery        17562 non-null  int64  \n",
      " 19  Fantasy        17562 non-null  int64  \n",
      " 20  School         17562 non-null  int64  \n",
      " 21  Harem          17562 non-null  int64  \n",
      " 22  Samurai        17562 non-null  int64  \n",
      " 23  Romance        17562 non-null  int64  \n",
      " 24  Game           17562 non-null  int64  \n",
      " 25  Magic          17562 non-null  int64  \n",
      " 26  Yaoi           17562 non-null  int64  \n",
      " 27  Shoujo         17562 non-null  int64  \n",
      " 28  Music          17562 non-null  int64  \n",
      " 29  Thriller       17562 non-null  int64  \n",
      " 30  Shoujo Ai      17562 non-null  int64  \n",
      " 31  Supernatural   17562 non-null  int64  \n",
      " 32  Sports         17562 non-null  int64  \n",
      " 33  Military       17562 non-null  int64  \n",
      " 34  Martial Arts   17562 non-null  int64  \n",
      " 35  Police         17562 non-null  int64  \n",
      " 36  Unknown        17562 non-null  int64  \n",
      " 37  Psychological  17562 non-null  int64  \n",
      " 38  Comedy         17562 non-null  int64  \n",
      " 39  Slice of Life  17562 non-null  int64  \n",
      " 40  Seinen         17562 non-null  int64  \n",
      " 41  Historical     17562 non-null  int64  \n",
      " 42  Hentai         17562 non-null  int64  \n",
      " 43  Dementia       17562 non-null  int64  \n",
      " 44  Drama          17562 non-null  int64  \n",
      " 45  Demons         17562 non-null  int64  \n",
      " 46  Shounen        17562 non-null  int64  \n",
      " 47  Horror         17562 non-null  int64  \n",
      "dtypes: float64(1), int64(46), object(1)\n",
      "memory usage: 6.4+ MB\n"
     ]
    }
   ],
   "source": [
    "anime_data.info()"
   ]
  },
  {
   "attachments": {},
   "cell_type": "markdown",
   "metadata": {},
   "source": [
    "Рассмотрим теперь информацию файла $animelist.csv$"
   ]
  },
  {
   "cell_type": "code",
   "execution_count": 20,
   "metadata": {},
   "outputs": [
    {
     "name": "stdout",
     "output_type": "stream",
     "text": [
      "<class 'pandas.core.frame.DataFrame'>\n",
      "RangeIndex: 10000000 entries, 0 to 9999999\n",
      "Data columns (total 5 columns):\n",
      " #   Column            Dtype\n",
      "---  ------            -----\n",
      " 0   user_id           int64\n",
      " 1   anime_id          int64\n",
      " 2   rating            int64\n",
      " 3   watching_status   int64\n",
      " 4   watched_episodes  int64\n",
      "dtypes: int64(5)\n",
      "memory usage: 381.5 MB\n"
     ]
    }
   ],
   "source": [
    "anime_ratings.info()"
   ]
  },
  {
   "attachments": {},
   "cell_type": "markdown",
   "metadata": {},
   "source": [
    "Избавимся от информации о кол-ве просмотренных эпизодов и статусе просмотра"
   ]
  },
  {
   "cell_type": "code",
   "execution_count": 22,
   "metadata": {},
   "outputs": [
    {
     "name": "stdout",
     "output_type": "stream",
     "text": [
      "<class 'pandas.core.frame.DataFrame'>\n",
      "RangeIndex: 10000000 entries, 0 to 9999999\n",
      "Data columns (total 3 columns):\n",
      " #   Column    Dtype\n",
      "---  ------    -----\n",
      " 0   user_id   int64\n",
      " 1   anime_id  int64\n",
      " 2   rating    int64\n",
      "dtypes: int64(3)\n",
      "memory usage: 228.9 MB\n"
     ]
    }
   ],
   "source": [
    "anime_ratings = anime_ratings[['user_id', 'anime_id', 'rating']]\n",
    "anime_ratings.info()"
   ]
  },
  {
   "attachments": {},
   "cell_type": "markdown",
   "metadata": {},
   "source": [
    "Проверим, есть ли оценки для всех аниме, представленных в датасете"
   ]
  },
  {
   "cell_type": "code",
   "execution_count": 23,
   "metadata": {},
   "outputs": [
    {
     "data": {
      "text/plain": [
       "17554"
      ]
     },
     "execution_count": 23,
     "metadata": {},
     "output_type": "execute_result"
    }
   ],
   "source": [
    "anime_ratings.anime_id.nunique()"
   ]
  },
  {
   "attachments": {},
   "cell_type": "markdown",
   "metadata": {},
   "source": [
    "Это действительно так"
   ]
  },
  {
   "cell_type": "code",
   "execution_count": null,
   "metadata": {},
   "outputs": [],
   "source": [
    "# anime_ratings = anime_ratings.sample(frac=0.3)\n",
    "# anime_ratings.info()"
   ]
  },
  {
   "cell_type": "code",
   "execution_count": null,
   "metadata": {},
   "outputs": [],
   "source": [
    "# anime_ratings.anime_id.nunique()"
   ]
  },
  {
   "attachments": {},
   "cell_type": "markdown",
   "metadata": {},
   "source": [
    "Объеденим информацию из двух файлов"
   ]
  },
  {
   "cell_type": "code",
   "execution_count": 29,
   "metadata": {},
   "outputs": [
    {
     "name": "stdout",
     "output_type": "stream",
     "text": [
      "<class 'pandas.core.frame.DataFrame'>\n",
      "RangeIndex: 3000000 entries, 0 to 2999999\n",
      "Data columns (total 50 columns):\n",
      " #   Column         Dtype  \n",
      "---  ------         -----  \n",
      " 0   anime_id       int64  \n",
      " 1   Name           object \n",
      " 2   Score          float64\n",
      " 3   Members        int64  \n",
      " 4   Kids           int64  \n",
      " 5   Super Power    int64  \n",
      " 6   Action         int64  \n",
      " 7   Sci-Fi         int64  \n",
      " 8   Shounen Ai     int64  \n",
      " 9   Ecchi          int64  \n",
      " 10  Cars           int64  \n",
      " 11  Yuri           int64  \n",
      " 12  Mecha          int64  \n",
      " 13  Space          int64  \n",
      " 14  Parody         int64  \n",
      " 15  Josei          int64  \n",
      " 16  Vampire        int64  \n",
      " 17  Adventure      int64  \n",
      " 18  Mystery        int64  \n",
      " 19  Fantasy        int64  \n",
      " 20  School         int64  \n",
      " 21  Harem          int64  \n",
      " 22  Samurai        int64  \n",
      " 23  Romance        int64  \n",
      " 24  Game           int64  \n",
      " 25  Magic          int64  \n",
      " 26  Yaoi           int64  \n",
      " 27  Shoujo         int64  \n",
      " 28  Music          int64  \n",
      " 29  Thriller       int64  \n",
      " 30  Shoujo Ai      int64  \n",
      " 31  Supernatural   int64  \n",
      " 32  Sports         int64  \n",
      " 33  Military       int64  \n",
      " 34  Martial Arts   int64  \n",
      " 35  Police         int64  \n",
      " 36  Unknown        int64  \n",
      " 37  Psychological  int64  \n",
      " 38  Comedy         int64  \n",
      " 39  Slice of Life  int64  \n",
      " 40  Seinen         int64  \n",
      " 41  Historical     int64  \n",
      " 42  Hentai         int64  \n",
      " 43  Dementia       int64  \n",
      " 44  Drama          int64  \n",
      " 45  Demons         int64  \n",
      " 46  Shounen        int64  \n",
      " 47  Horror         int64  \n",
      " 48  user_id        int64  \n",
      " 49  rating         int64  \n",
      "dtypes: float64(1), int64(48), object(1)\n",
      "memory usage: 1.1+ GB\n"
     ]
    }
   ],
   "source": [
    "anime_complete = pd.merge(anime_data, anime_ratings, on='anime_id')\n",
    "anime_complete.info()"
   ]
  },
  {
   "attachments": {},
   "cell_type": "markdown",
   "metadata": {},
   "source": [
    "Переименуеем Score d total_score, а rating в user_score"
   ]
  },
  {
   "cell_type": "code",
   "execution_count": 30,
   "metadata": {},
   "outputs": [],
   "source": [
    "anime_complete = anime_complete.rename(columns={'Score' : 'total_score', 'rating': 'user_score'})"
   ]
  },
  {
   "cell_type": "code",
   "execution_count": 31,
   "metadata": {},
   "outputs": [
    {
     "data": {
      "text/plain": [
       "anime_id         0\n",
       "Name             0\n",
       "total_score      0\n",
       "Members          0\n",
       "Kids             0\n",
       "Super Power      0\n",
       "Action           0\n",
       "Sci-Fi           0\n",
       "Shounen Ai       0\n",
       "Ecchi            0\n",
       "Cars             0\n",
       "Yuri             0\n",
       "Mecha            0\n",
       "Space            0\n",
       "Parody           0\n",
       "Josei            0\n",
       "Vampire          0\n",
       "Adventure        0\n",
       "Mystery          0\n",
       "Fantasy          0\n",
       "School           0\n",
       "Harem            0\n",
       "Samurai          0\n",
       "Romance          0\n",
       "Game             0\n",
       "Magic            0\n",
       "Yaoi             0\n",
       "Shoujo           0\n",
       "Music            0\n",
       "Thriller         0\n",
       "Shoujo Ai        0\n",
       "Supernatural     0\n",
       "Sports           0\n",
       "Military         0\n",
       "Martial Arts     0\n",
       "Police           0\n",
       "Unknown          0\n",
       "Psychological    0\n",
       "Comedy           0\n",
       "Slice of Life    0\n",
       "Seinen           0\n",
       "Historical       0\n",
       "Hentai           0\n",
       "Dementia         0\n",
       "Drama            0\n",
       "Demons           0\n",
       "Shounen          0\n",
       "Horror           0\n",
       "user_id          0\n",
       "user_score       0\n",
       "dtype: int64"
      ]
     },
     "execution_count": 31,
     "metadata": {},
     "output_type": "execute_result"
    }
   ],
   "source": [
    "anime_complete.isna().sum()"
   ]
  },
  {
   "cell_type": "code",
   "execution_count": 42,
   "metadata": {},
   "outputs": [
    {
     "data": {
      "text/html": [
       "<div>\n",
       "<style scoped>\n",
       "    .dataframe tbody tr th:only-of-type {\n",
       "        vertical-align: middle;\n",
       "    }\n",
       "\n",
       "    .dataframe tbody tr th {\n",
       "        vertical-align: top;\n",
       "    }\n",
       "\n",
       "    .dataframe thead th {\n",
       "        text-align: right;\n",
       "    }\n",
       "</style>\n",
       "<table border=\"1\" class=\"dataframe\">\n",
       "  <thead>\n",
       "    <tr style=\"text-align: right;\">\n",
       "      <th></th>\n",
       "      <th>anime_id</th>\n",
       "      <th>Name</th>\n",
       "      <th>total_score</th>\n",
       "      <th>Members</th>\n",
       "      <th>Kids</th>\n",
       "      <th>Super Power</th>\n",
       "      <th>Action</th>\n",
       "      <th>Sci-Fi</th>\n",
       "      <th>Shounen Ai</th>\n",
       "      <th>Ecchi</th>\n",
       "      <th>...</th>\n",
       "      <th>Seinen</th>\n",
       "      <th>Historical</th>\n",
       "      <th>Hentai</th>\n",
       "      <th>Dementia</th>\n",
       "      <th>Drama</th>\n",
       "      <th>Demons</th>\n",
       "      <th>Shounen</th>\n",
       "      <th>Horror</th>\n",
       "      <th>user_id</th>\n",
       "      <th>user_score</th>\n",
       "    </tr>\n",
       "  </thead>\n",
       "  <tbody>\n",
       "    <tr>\n",
       "      <th>0</th>\n",
       "      <td>1</td>\n",
       "      <td>Cowboy Bebop</td>\n",
       "      <td>8.78</td>\n",
       "      <td>1251960</td>\n",
       "      <td>0</td>\n",
       "      <td>0</td>\n",
       "      <td>1</td>\n",
       "      <td>1</td>\n",
       "      <td>0</td>\n",
       "      <td>0</td>\n",
       "      <td>...</td>\n",
       "      <td>0</td>\n",
       "      <td>0</td>\n",
       "      <td>0</td>\n",
       "      <td>0</td>\n",
       "      <td>1</td>\n",
       "      <td>0</td>\n",
       "      <td>0</td>\n",
       "      <td>0</td>\n",
       "      <td>21812</td>\n",
       "      <td>8</td>\n",
       "    </tr>\n",
       "    <tr>\n",
       "      <th>1</th>\n",
       "      <td>1</td>\n",
       "      <td>Cowboy Bebop</td>\n",
       "      <td>8.78</td>\n",
       "      <td>1251960</td>\n",
       "      <td>0</td>\n",
       "      <td>0</td>\n",
       "      <td>1</td>\n",
       "      <td>1</td>\n",
       "      <td>0</td>\n",
       "      <td>0</td>\n",
       "      <td>...</td>\n",
       "      <td>0</td>\n",
       "      <td>0</td>\n",
       "      <td>0</td>\n",
       "      <td>0</td>\n",
       "      <td>1</td>\n",
       "      <td>0</td>\n",
       "      <td>0</td>\n",
       "      <td>0</td>\n",
       "      <td>26660</td>\n",
       "      <td>0</td>\n",
       "    </tr>\n",
       "    <tr>\n",
       "      <th>2</th>\n",
       "      <td>1</td>\n",
       "      <td>Cowboy Bebop</td>\n",
       "      <td>8.78</td>\n",
       "      <td>1251960</td>\n",
       "      <td>0</td>\n",
       "      <td>0</td>\n",
       "      <td>1</td>\n",
       "      <td>1</td>\n",
       "      <td>0</td>\n",
       "      <td>0</td>\n",
       "      <td>...</td>\n",
       "      <td>0</td>\n",
       "      <td>0</td>\n",
       "      <td>0</td>\n",
       "      <td>0</td>\n",
       "      <td>1</td>\n",
       "      <td>0</td>\n",
       "      <td>0</td>\n",
       "      <td>0</td>\n",
       "      <td>11682</td>\n",
       "      <td>9</td>\n",
       "    </tr>\n",
       "    <tr>\n",
       "      <th>3</th>\n",
       "      <td>1</td>\n",
       "      <td>Cowboy Bebop</td>\n",
       "      <td>8.78</td>\n",
       "      <td>1251960</td>\n",
       "      <td>0</td>\n",
       "      <td>0</td>\n",
       "      <td>1</td>\n",
       "      <td>1</td>\n",
       "      <td>0</td>\n",
       "      <td>0</td>\n",
       "      <td>...</td>\n",
       "      <td>0</td>\n",
       "      <td>0</td>\n",
       "      <td>0</td>\n",
       "      <td>0</td>\n",
       "      <td>1</td>\n",
       "      <td>0</td>\n",
       "      <td>0</td>\n",
       "      <td>0</td>\n",
       "      <td>31629</td>\n",
       "      <td>10</td>\n",
       "    </tr>\n",
       "    <tr>\n",
       "      <th>4</th>\n",
       "      <td>1</td>\n",
       "      <td>Cowboy Bebop</td>\n",
       "      <td>8.78</td>\n",
       "      <td>1251960</td>\n",
       "      <td>0</td>\n",
       "      <td>0</td>\n",
       "      <td>1</td>\n",
       "      <td>1</td>\n",
       "      <td>0</td>\n",
       "      <td>0</td>\n",
       "      <td>...</td>\n",
       "      <td>0</td>\n",
       "      <td>0</td>\n",
       "      <td>0</td>\n",
       "      <td>0</td>\n",
       "      <td>1</td>\n",
       "      <td>0</td>\n",
       "      <td>0</td>\n",
       "      <td>0</td>\n",
       "      <td>27887</td>\n",
       "      <td>9</td>\n",
       "    </tr>\n",
       "    <tr>\n",
       "      <th>...</th>\n",
       "      <td>...</td>\n",
       "      <td>...</td>\n",
       "      <td>...</td>\n",
       "      <td>...</td>\n",
       "      <td>...</td>\n",
       "      <td>...</td>\n",
       "      <td>...</td>\n",
       "      <td>...</td>\n",
       "      <td>...</td>\n",
       "      <td>...</td>\n",
       "      <td>...</td>\n",
       "      <td>...</td>\n",
       "      <td>...</td>\n",
       "      <td>...</td>\n",
       "      <td>...</td>\n",
       "      <td>...</td>\n",
       "      <td>...</td>\n",
       "      <td>...</td>\n",
       "      <td>...</td>\n",
       "      <td>...</td>\n",
       "      <td>...</td>\n",
       "    </tr>\n",
       "    <tr>\n",
       "      <th>2999995</th>\n",
       "      <td>48488</td>\n",
       "      <td>Higurashi no Naku Koro ni Sotsu</td>\n",
       "      <td>0.00</td>\n",
       "      <td>11309</td>\n",
       "      <td>0</td>\n",
       "      <td>0</td>\n",
       "      <td>0</td>\n",
       "      <td>0</td>\n",
       "      <td>0</td>\n",
       "      <td>0</td>\n",
       "      <td>...</td>\n",
       "      <td>0</td>\n",
       "      <td>0</td>\n",
       "      <td>0</td>\n",
       "      <td>1</td>\n",
       "      <td>0</td>\n",
       "      <td>0</td>\n",
       "      <td>0</td>\n",
       "      <td>1</td>\n",
       "      <td>14587</td>\n",
       "      <td>0</td>\n",
       "    </tr>\n",
       "    <tr>\n",
       "      <th>2999996</th>\n",
       "      <td>48488</td>\n",
       "      <td>Higurashi no Naku Koro ni Sotsu</td>\n",
       "      <td>0.00</td>\n",
       "      <td>11309</td>\n",
       "      <td>0</td>\n",
       "      <td>0</td>\n",
       "      <td>0</td>\n",
       "      <td>0</td>\n",
       "      <td>0</td>\n",
       "      <td>0</td>\n",
       "      <td>...</td>\n",
       "      <td>0</td>\n",
       "      <td>0</td>\n",
       "      <td>0</td>\n",
       "      <td>1</td>\n",
       "      <td>0</td>\n",
       "      <td>0</td>\n",
       "      <td>0</td>\n",
       "      <td>1</td>\n",
       "      <td>19052</td>\n",
       "      <td>0</td>\n",
       "    </tr>\n",
       "    <tr>\n",
       "      <th>2999997</th>\n",
       "      <td>48488</td>\n",
       "      <td>Higurashi no Naku Koro ni Sotsu</td>\n",
       "      <td>0.00</td>\n",
       "      <td>11309</td>\n",
       "      <td>0</td>\n",
       "      <td>0</td>\n",
       "      <td>0</td>\n",
       "      <td>0</td>\n",
       "      <td>0</td>\n",
       "      <td>0</td>\n",
       "      <td>...</td>\n",
       "      <td>0</td>\n",
       "      <td>0</td>\n",
       "      <td>0</td>\n",
       "      <td>1</td>\n",
       "      <td>0</td>\n",
       "      <td>0</td>\n",
       "      <td>0</td>\n",
       "      <td>1</td>\n",
       "      <td>28723</td>\n",
       "      <td>0</td>\n",
       "    </tr>\n",
       "    <tr>\n",
       "      <th>2999998</th>\n",
       "      <td>48488</td>\n",
       "      <td>Higurashi no Naku Koro ni Sotsu</td>\n",
       "      <td>0.00</td>\n",
       "      <td>11309</td>\n",
       "      <td>0</td>\n",
       "      <td>0</td>\n",
       "      <td>0</td>\n",
       "      <td>0</td>\n",
       "      <td>0</td>\n",
       "      <td>0</td>\n",
       "      <td>...</td>\n",
       "      <td>0</td>\n",
       "      <td>0</td>\n",
       "      <td>0</td>\n",
       "      <td>1</td>\n",
       "      <td>0</td>\n",
       "      <td>0</td>\n",
       "      <td>0</td>\n",
       "      <td>1</td>\n",
       "      <td>5551</td>\n",
       "      <td>0</td>\n",
       "    </tr>\n",
       "    <tr>\n",
       "      <th>2999999</th>\n",
       "      <td>48491</td>\n",
       "      <td>Yama no Susume: Next Summit</td>\n",
       "      <td>0.00</td>\n",
       "      <td>1386</td>\n",
       "      <td>0</td>\n",
       "      <td>0</td>\n",
       "      <td>0</td>\n",
       "      <td>0</td>\n",
       "      <td>0</td>\n",
       "      <td>0</td>\n",
       "      <td>...</td>\n",
       "      <td>0</td>\n",
       "      <td>0</td>\n",
       "      <td>0</td>\n",
       "      <td>0</td>\n",
       "      <td>0</td>\n",
       "      <td>0</td>\n",
       "      <td>0</td>\n",
       "      <td>0</td>\n",
       "      <td>19789</td>\n",
       "      <td>0</td>\n",
       "    </tr>\n",
       "  </tbody>\n",
       "</table>\n",
       "<p>3000000 rows × 50 columns</p>\n",
       "</div>"
      ],
      "text/plain": [
       "         anime_id                             Name  total_score  Members   \n",
       "0               1                     Cowboy Bebop         8.78  1251960  \\\n",
       "1               1                     Cowboy Bebop         8.78  1251960   \n",
       "2               1                     Cowboy Bebop         8.78  1251960   \n",
       "3               1                     Cowboy Bebop         8.78  1251960   \n",
       "4               1                     Cowboy Bebop         8.78  1251960   \n",
       "...           ...                              ...          ...      ...   \n",
       "2999995     48488  Higurashi no Naku Koro ni Sotsu         0.00    11309   \n",
       "2999996     48488  Higurashi no Naku Koro ni Sotsu         0.00    11309   \n",
       "2999997     48488  Higurashi no Naku Koro ni Sotsu         0.00    11309   \n",
       "2999998     48488  Higurashi no Naku Koro ni Sotsu         0.00    11309   \n",
       "2999999     48491      Yama no Susume: Next Summit         0.00     1386   \n",
       "\n",
       "         Kids  Super Power  Action  Sci-Fi  Shounen Ai  Ecchi  ...  Seinen   \n",
       "0           0            0       1       1           0      0  ...       0  \\\n",
       "1           0            0       1       1           0      0  ...       0   \n",
       "2           0            0       1       1           0      0  ...       0   \n",
       "3           0            0       1       1           0      0  ...       0   \n",
       "4           0            0       1       1           0      0  ...       0   \n",
       "...       ...          ...     ...     ...         ...    ...  ...     ...   \n",
       "2999995     0            0       0       0           0      0  ...       0   \n",
       "2999996     0            0       0       0           0      0  ...       0   \n",
       "2999997     0            0       0       0           0      0  ...       0   \n",
       "2999998     0            0       0       0           0      0  ...       0   \n",
       "2999999     0            0       0       0           0      0  ...       0   \n",
       "\n",
       "         Historical  Hentai  Dementia  Drama  Demons  Shounen  Horror   \n",
       "0                 0       0         0      1       0        0       0  \\\n",
       "1                 0       0         0      1       0        0       0   \n",
       "2                 0       0         0      1       0        0       0   \n",
       "3                 0       0         0      1       0        0       0   \n",
       "4                 0       0         0      1       0        0       0   \n",
       "...             ...     ...       ...    ...     ...      ...     ...   \n",
       "2999995           0       0         1      0       0        0       1   \n",
       "2999996           0       0         1      0       0        0       1   \n",
       "2999997           0       0         1      0       0        0       1   \n",
       "2999998           0       0         1      0       0        0       1   \n",
       "2999999           0       0         0      0       0        0       0   \n",
       "\n",
       "         user_id  user_score  \n",
       "0          21812           8  \n",
       "1          26660           0  \n",
       "2          11682           9  \n",
       "3          31629          10  \n",
       "4          27887           9  \n",
       "...          ...         ...  \n",
       "2999995    14587           0  \n",
       "2999996    19052           0  \n",
       "2999997    28723           0  \n",
       "2999998     5551           0  \n",
       "2999999    19789           0  \n",
       "\n",
       "[3000000 rows x 50 columns]"
      ]
     },
     "execution_count": 42,
     "metadata": {},
     "output_type": "execute_result"
    }
   ],
   "source": [
    "anime_complete"
   ]
  },
  {
   "attachments": {},
   "cell_type": "markdown",
   "metadata": {},
   "source": [
    "сохраним полученый df в csv"
   ]
  },
  {
   "cell_type": "code",
   "execution_count": 43,
   "metadata": {},
   "outputs": [],
   "source": [
    "anime_complete.to_csv(ANIME_DIR + 'complete.csv')"
   ]
  },
  {
   "attachments": {},
   "cell_type": "markdown",
   "metadata": {},
   "source": [
    "### Подготовка данных для рекомендаций"
   ]
  },
  {
   "cell_type": "code",
   "execution_count": null,
   "metadata": {},
   "outputs": [],
   "source": [
    "anime_feature = pd.read_csv(ANIME_DIR + 'complete.csv')"
   ]
  },
  {
   "attachments": {},
   "cell_type": "markdown",
   "metadata": {},
   "source": [
    "Посмотрим на 10 самых популярных аниме по кол-ву оценок и по кол-ву фанатов"
   ]
  },
  {
   "cell_type": "code",
   "execution_count": 34,
   "metadata": {},
   "outputs": [],
   "source": [
    "top10_by_score = anime_complete['Name'].value_counts().nlargest(10)\n",
    "top10_by_members = anime_complete.sort_values(by='Members', ascending=False).drop_duplicates(subset='Name').head(10)"
   ]
  },
  {
   "cell_type": "code",
   "execution_count": 36,
   "metadata": {},
   "outputs": [
    {
     "data": {
      "text/plain": [
       "Name\n",
       "Death Note                          6602\n",
       "Shingeki no Kyojin                  6030\n",
       "Sword Art Online                    5881\n",
       "Fullmetal Alchemist: Brotherhood    5586\n",
       "Toradora!                           5564\n",
       "Code Geass: Hangyaku no Lelouch     5375\n",
       "Angel Beats!                        5268\n",
       "Steins;Gate                         5253\n",
       "Naruto                              4985\n",
       "Mirai Nikki                         4913\n",
       "Name: count, dtype: int64"
      ]
     },
     "execution_count": 36,
     "metadata": {},
     "output_type": "execute_result"
    }
   ],
   "source": [
    "top10_by_score"
   ]
  },
  {
   "cell_type": "code",
   "execution_count": 40,
   "metadata": {},
   "outputs": [
    {
     "data": {
      "text/plain": [
       "519679                           Death Note\n",
       "1686010                  Shingeki no Kyojin\n",
       "925620     Fullmetal Alchemist: Brotherhood\n",
       "1450242                    Sword Art Online\n",
       "2210599                       One Punch Man\n",
       "2348837               Boku no Hero Academia\n",
       "1938286                         Tokyo Ghoul\n",
       "16746                                Naruto\n",
       "1223640                         Steins;Gate\n",
       "1824573                     No Game No Life\n",
       "Name: Name, dtype: object"
      ]
     },
     "execution_count": 40,
     "metadata": {},
     "output_type": "execute_result"
    }
   ],
   "source": [
    "top10_by_members['Name']"
   ]
  },
  {
   "cell_type": "code",
   "execution_count": null,
   "metadata": {},
   "outputs": [],
   "source": []
  }
 ],
 "metadata": {
  "kernelspec": {
   "display_name": "recommended-network-v0tlW72M-py3.10",
   "language": "python",
   "name": "python3"
  },
  "language_info": {
   "codemirror_mode": {
    "name": "ipython",
    "version": 3
   },
   "file_extension": ".py",
   "mimetype": "text/x-python",
   "name": "python",
   "nbconvert_exporter": "python",
   "pygments_lexer": "ipython3",
   "version": "3.10.11"
  },
  "orig_nbformat": 4
 },
 "nbformat": 4,
 "nbformat_minor": 2
}
